{
 "cells": [
  {
   "cell_type": "code",
   "execution_count": 6,
   "metadata": {},
   "outputs": [],
   "source": [
    "from src.pipeline.data_processor import DataProcessor, CleanedData\n",
    "from enum import Enum\n",
    "from datetime import date, timedelta, datetime\n",
    "import pandas as pd\n",
    "import re\n",
    "\n",
    "\n",
    "class LearningCycle(Enum):\n",
    "    DAF = [\"Daf Yomi\", \"category_Gemara\", \"d_masechta\", \"d_num\"]\n",
    "    WEEKLY_DAF = [\"Daf Hashvua\", \"category_Gemara\", \"dw_masechta\", \"dw_num\"]\n",
    "    MISHNAH = [\"Mishna Yomi LZN Daniel Ari ben Avraham Kadesh\", \"category_Mishna\", \"m_masechta\", \"m_num1\", \"m_num2\"]\n",
    "    PARSHA = [\"category_Parsha\", \"parashat\"]\n",
    "    NACH = [\"Nach Yomi\", \"category_Nach\", \"n_sefer\", \"n_num\"]\n",
    "    YERUSHALMI = [\"Yerushalmi Yomi\", \"category_Yerushalmi\", \"y_masechta\", \"y_num\"]\n",
    "\n",
    "\n",
    "class CycleRecommendations():\n",
    "     def __init__(self):\n",
    "          self.dp = DataProcessor()\n",
    "          self.calendar = self.dp.load_table(CleanedData.CALENDAR)\n",
    "          df_categories = self.dp.load_table(CleanedData.CATEGORIES)\n",
    "          df_shiurim = self.dp.load_table(CleanedData.SHIURIM)\n",
    "          self.df_merged = pd.merge(df_categories, df_shiurim, on='shiur', suffixes=('_cat', '_shiur'))\n",
    "\n",
    "     def get_all_recommendations(self, date:date=date.today()):\n",
    "          if isinstance(date, str):\n",
    "            date = datetime.strptime(date, \"%Y-%m-%d\").date()\n",
    "          all_recommendations = []\n",
    "          for cycle in LearningCycle:\n",
    "               recommendations = self.get_learning_cycle_recommendations(cycle, date)\n",
    "               all_recommendations.extend(recommendations)\n",
    "          all_recommendations.extend(self.get_holiday(date, date+timedelta(3)))\n",
    "          return all_recommendations\n",
    "\n",
    "     def get_learning_cycle_recommendations(self, cycle:LearningCycle, date:date=date.today()):\n",
    "          if isinstance(date, str):\n",
    "            date = datetime.strptime(date, \"%Y-%m-%d\").date()\n",
    "          if str(date) not in self.calendar['date'].values:\n",
    "               return []\n",
    "          date_data = self.calendar[self.calendar['date'] == str(date)]\n",
    "          if cycle in [LearningCycle.DAF, LearningCycle.WEEKLY_DAF, LearningCycle.NACH, LearningCycle.YERUSHALMI]:\n",
    "               df = self.get_standard_learning(cycle, date_data)\n",
    "          elif cycle == LearningCycle.PARSHA:\n",
    "               df = self.get_parsha_recommendations(cycle, date_data)\n",
    "          elif cycle == LearningCycle.MISHNAH:\n",
    "               df = self.get_mishna_recommendation(cycle, date_data)\n",
    "          else:\n",
    "               return []\n",
    "          return(df[\"shiur\"].tolist())\n",
    "\n",
    "     def get_standard_learning(self, cycle:LearningCycle, row:pd.DataFrame):\n",
    "          subcategory = row.iloc[0][cycle.value[2]]\n",
    "          subcategory = f'[{subcategory}]' if ' ' in subcategory else subcategory\n",
    "          df = self.df_merged.loc[\n",
    "          (self.df_merged[cycle.value[1]] == 1) & \n",
    "          (self.df_merged[row.iloc[0][cycle.value[2]]] == 1) &\n",
    "          (self.df_merged['series_name'] == cycle.value[0])\n",
    "          ].copy()\n",
    "          df.loc[:, 'numbers'] = df['title'].apply(self.__extract_numbers)\n",
    "          cycle_value1 = int(row[cycle.value[3]].item() if hasattr(row[cycle.value[3]], 'item') else row[cycle.value[3]])\n",
    "          filtered_df = df[df['numbers'].apply(lambda x: x[0] == cycle_value1 if len(x) > 0 else False)]\n",
    "          filtered_df = filtered_df.drop(columns=['numbers'])\n",
    "          return filtered_df\n",
    "\n",
    "     def get_parsha_recommendations(self, cycle:LearningCycle, row:pd.DataFrame):\n",
    "          subcategory = row.iloc[0][cycle.value[1]]\n",
    "          subcategory = f'[{subcategory}]' if ' ' in subcategory else subcategory\n",
    "          filtered_df = self.df_merged[\n",
    "          (self.df_merged[cycle.value[0]] == 1) & \n",
    "          (self.df_merged[subcategory] == 1)\n",
    "          ]\n",
    "          return filtered_df\n",
    "\n",
    "     def get_mishna_recommendation(self, cycle:LearningCycle, row:pd.DataFrame):\n",
    "          subcategory = row.iloc[0][cycle.value[2]]\n",
    "          subcategory = f'[{subcategory}]' if ' ' in subcategory else subcategory\n",
    "          df = self.df_merged.loc[\n",
    "          (self.df_merged[cycle.value[1]] == 1) & \n",
    "          (self.df_merged[row.iloc[0][cycle.value[2]]] == 1) &\n",
    "          (self.df_merged['series_name'] == cycle.value[0])\n",
    "          ].copy()\n",
    "          df.loc[:, 'numbers'] = df['title'].apply(self.__extract_numbers)\n",
    "          num1 = int(row[cycle.value[3]].item() if hasattr(row[cycle.value[3]], 'item') else row[cycle.value[3]])\n",
    "          num2 = int(row[cycle.value[4]].item() if hasattr(row[cycle.value[4]], 'item') else row[cycle.value[4]])\n",
    "          filtered_df = df[df['numbers'].apply(lambda x: (x[0] == num1 and x[1] == num2) if len(x) > 1 else False)]\n",
    "          filtered_df = filtered_df.drop(columns=['numbers'])\n",
    "          return filtered_df\n",
    "\n",
    "     def __extract_numbers(self, title):\n",
    "          return [int(num) for num in re.findall(r'\\b\\d+\\b|(?<=[:\\-])\\d+', title)]\n",
    "\n",
    "     def get_holiday(self, start_date:date=date.today(), end_date:date=date.today()+timedelta(3)):\n",
    "          if isinstance(start_date, str):\n",
    "            start_date = datetime.strptime(start_date, \"%Y-%m-%d\").date()\n",
    "            end_date = datetime.strptime(end_date, \"%Y-%m-%d\").date()\n",
    "          if str(start_date) not in self.calendar['date'].values:\n",
    "               return []\n",
    "          holiday_data = self.calendar[(self.calendar['date'] >= str(start_date)) & (self.calendar['date'] <= str(end_date))]\n",
    "          no_holiday = holiday_data['holiday'].isna().all()\n",
    "          no_roshchodesh = pd.isna(holiday_data['roshchodesh'].iloc[0])\n",
    "          if not no_holiday:\n",
    "               first_holiday = holiday_data['holiday'].dropna().iloc[0]\n",
    "               filtered_df = self.df_merged[(self.df_merged[first_holiday] == 1) & (self.df_merged['category_Holidays'] == 1)]\n",
    "               return(filtered_df[\"shiur\"].tolist())\n",
    "          elif not no_roshchodesh:\n",
    "               first_roshchodesh = holiday_data['holiday'].dropna().iloc[0]\n",
    "               filtered_df = self.df_merged[(self.df_merged[first_roshchodesh] == 1) & (self.df_merged['category_Holidays'] == 1)]\n",
    "               return(filtered_df[\"shiur\"].tolist())\n",
    "          else:\n",
    "               return []\n"
   ]
  },
  {
   "cell_type": "code",
   "execution_count": 7,
   "metadata": {},
   "outputs": [
    {
     "name": "stderr",
     "output_type": "stream",
     "text": [
      "2024-07-25 20:55:19,747 - root - INFO - DataProcessor instance created\n",
      "2024-07-25 20:55:19,751 - root - INFO - Loading data from: cycles_calendar\n",
      "2024-07-25 20:55:19,886 - root - INFO - Loading data from: categories_cleaned\n",
      "2024-07-25 20:56:06,234 - root - INFO - Loading data from: shiurim_cleaned\n"
     ]
    }
   ],
   "source": [
    "model = CycleRecommendations()\n"
   ]
  },
  {
   "cell_type": "code",
   "execution_count": 15,
   "metadata": {},
   "outputs": [
    {
     "name": "stdout",
     "output_type": "stream",
     "text": [
      "[873341, 873340, 873338, 873337, 873335, 873334, 1099057, 1098910, 1094170, 1093170, 1090947, 1090263, 1090195, 1087541, 1085979, 1085453, 1081408, 1080511, 1079655, 1079253, 1070914, 1070444, 1069914, 1069802, 1069790, 1069789, 1069761, 1069717, 1069608, 1069543, 1069481, 1069473, 1069462, 1069461, 1069460, 1069455, 1069437, 1069433, 1069430, 1069422, 1069420, 1069418, 1069415, 1069411, 1069410, 1069409, 1069408, 1069405, 1069403, 1069391, 1069388, 1069382, 1069381, 1069377, 1069372, 1069364, 1069363, 1069354, 1069342, 1069338, 1069337, 1069334, 1069329, 1069328, 1069327, 1069324, 1069304, 1069245, 1069198, 1069195, 1069194, 1069191, 1069145, 1069144, 1069140, 1069139, 1069127, 1069109, 1069095, 1069092, 1069088, 1069082, 1069072, 1069030, 1069010, 1069004, 1068980, 1068977, 1064958, 1061213, 1057724, 1055965, 1055411, 1055018, 1054349, 1053722, 1047419, 1046459, 1046456, 1044520, 1044516, 1040323, 1040212, 1040211, 1040051, 1040017, 1039877, 1039872, 1039845, 1039791, 1039769, 1039764, 1039760, 1039757, 1039755, 1039743, 1039742, 1039741, 1039740, 1039739, 1039737, 1039736, 1039729, 1039726, 1039725, 1039724, 1039723, 1039718, 1039710, 1039709, 1039699, 1039687, 1039686, 1039684, 1039682, 1039680, 1039673, 1039671, 1039658, 1039652, 1039650, 1039637, 1039628, 1039616, 1039598, 1039595, 1039575, 1039563, 1039526, 1039516, 1039512, 1039505, 1039502, 1039494, 1039493, 1039491, 1039490, 1039441, 1039417, 1039409, 1039407, 1039403, 1039395, 1039360, 1039338, 1039271, 1039261, 1039260, 1039259, 1039258, 1039256, 1039255, 1039254, 1039249, 1039177, 1039145, 1039140, 1039120, 1039101, 1039086, 1039078, 1039067, 1039066, 1039060, 1039051, 1039038, 1038928, 1038916, 1038913, 1038911, 1038895, 1038886, 1038843, 1038831, 1038814, 1038809, 1038805, 1038789, 1038787, 1038772, 1038765, 1038720, 1038703, 1038701, 1038692, 1038690, 1038683, 1038657, 1038650, 1038592, 1037765, 1037764, 1037763, 1037762, 1037761, 1037760, 1037759, 1036009, 1029353, 1020199, 1019517, 1019503, 1015956, 1014971, 1013669, 1010162, 1009651, 1008137, 1006579, 1006014, 1005806, 1005793, 1005667, 1005643, 1005623, 1005597, 1005580, 1005571, 1005524, 1005521, 1005519, 1005518, 1005517, 1005512, 1005510, 1005509, 1005507, 1005506, 1005503, 1005496, 1005492, 1005489, 1005488, 1005487, 1005482, 1005480, 1005477, 1005475, 1005472, 1005470, 1005465, 1005459, 1005457, 1005451, 1005449, 1005447, 1005444, 1005441, 1005438, 1005435, 1005430, 1005428, 1005424, 1005423, 1005421, 1005419, 1005413, 1005411, 1005405, 1005396, 1005387, 1005384, 1005369, 1005355, 1005353, 1005351, 1005350, 1005348, 1005345, 1005342, 1005335, 1005332, 1005331, 1005324, 1005323, 1005321, 1005314, 1005313, 1005311, 1005310, 1005306, 1005302, 1005300, 1005299, 1005297, 1005283, 1005282, 1005279, 1005251, 1005248, 1005245, 1005243, 1005239, 1005234, 1005232, 1005231, 1005230, 1005225, 1005189, 1005188, 1005187, 1005186, 1005182, 1005180, 1005169, 1005159, 1005152, 1005136, 1005134, 1005125, 1005098, 1005087, 1005086, 1005084, 1005034, 1005033, 1005025, 1005016, 1005014, 1005013, 1004946, 1004929, 1004923, 1004919, 1004801, 1004759, 1004754, 1004440, 1004429, 1004265, 1004262, 1003860, 1003855, 1003849, 1002850, 1002367, 1001771, 1001769, 1001723, 1001722, 1001703, 1001319, 1001317, 1001306, 999090, 998964, 993372, 992557, 991351, 991338, 988650, 988280, 982360, 982356, 972959, 972958, 972957, 972955, 972954, 972839, 972279, 971135, 971131, 971128, 971120, 971108, 970990, 970847, 970809, 970568, 967417, 965931, 965430, 965371, 964605, 964238, 963827, 963164, 963044, 963010, 962984, 962978, 962957, 962951, 962950, 962944, 962943, 962939, 962934, 962933, 962932, 962923, 962921, 962919, 962913, 962904, 962892, 962886, 962885, 962878, 962877, 962874, 962868, 962867, 962865, 962861, 962860, 962846, 962845, 962843, 962829, 962823, 962814, 962813, 962810, 962808, 962803, 962800, 962794, 962793, 962790, 962785, 962779, 962778, 962772, 962761, 962758, 962756, 962743, 962741, 962738, 962718, 962716, 962710, 962698, 962696, 962694, 962677, 962674, 962669, 962663, 962652, 962649, 962647, 962646, 962642, 962636, 962632, 962625, 962594, 962513, 962503, 962499, 962495, 962474, 962465, 962453, 962452, 962446, 962445, 962442, 962438, 962435, 962430, 962419, 962391, 962388, 962363, 962354, 962349, 962348, 962343, 962321, 962317, 962311, 962306, 962297, 962296, 962273, 962224, 962211, 962209, 962202, 962194, 962179, 962177, 962153, 962148, 962122, 962119, 962088, 962067, 962049, 962039, 962024, 962021, 961932, 961928, 961925, 961734, 961561, 961453, 959391, 957334, 957325, 957319, 952562, 941969, 940701, 935725, 934769, 932405, 931168, 931014, 930154, 930083, 930067, 929878, 929755, 929434, 929352, 929257, 929114, 929101, 929097, 929085, 929083, 929077, 929074, 929073, 929072, 929068, 929063, 929058, 929056, 929051, 929048, 929045, 929027, 929022, 929009, 929005, 928995, 928993, 928962, 928960, 928938, 928934, 928922, 928912, 928889, 928887, 928884, 928883, 928848, 928843, 928841, 928837, 928823, 928794, 928782, 928755, 928695, 928683, 928680, 928674, 928673, 928662, 928656, 928651, 928650, 928646, 928612, 928611, 928609, 928607, 928598, 928588, 928546, 928541, 928538, 928534, 928519, 928508, 928494, 928487, 928481, 928416, 928411, 928410, 928407, 928383, 928381, 928340, 928338, 928307, 928293, 928270, 928269, 928261, 928178, 928176, 928174, 927701, 927326, 927321, 927319, 927316, 926852, 926851, 926725, 926549, 911121, 909816, 908365, 904246, 904238, 904222, 904021, 904014, 903930, 903924, 903923, 903919, 903916, 903913, 903911, 903905, 903904, 903901, 903897, 903894, 903893, 903888, 903886, 903885, 903883, 903882, 903879, 903875, 903872, 903871, 903858, 903856, 903852, 903848, 903846, 903841, 903834, 903833, 903829, 903824, 903823, 903821, 903820, 903811, 903803, 903799, 903790, 903788, 903787, 903785, 903775, 903771, 903770, 903754, 903752, 903709, 903704, 903703, 903702, 903701, 903700, 903698, 903691, 903688, 903687, 903669, 903668, 903659, 903658, 903647, 903637, 903584, 903573, 903572, 903393, 903355, 902956, 902430, 902195, 901600, 900979, 900580, 896994, 893817, 889242, 883933, 882986, 882007, 881981, 881939, 881823, 881800, 881794, 881787, 881753, 881751, 881743, 881737, 881736, 881731, 881730, 881729, 881728, 881727, 881721, 881718, 881716, 881711, 881707, 881696, 881684, 881681, 881675, 881674, 881673, 881670, 881650, 881649, 881645, 881640, 881637, 881630, 881620, 881618, 881604, 881595, 881592, 881587, 881582, 881575, 881570, 881566, 881555, 881520, 881510, 881501, 881495, 881472, 881445, 881401, 880675, 876413, 875412, 873911, 870733, 867963, 867764, 867598, 863711, 861412, 860925, 860846, 860830, 860827, 860761, 860755, 860753, 860751, 860740, 860734, 860733, 860713, 860704, 860703, 860702, 860701, 860699, 860697, 860696, 860683, 860676, 860675, 860674, 860671, 860654, 860650, 860636, 860612, 860603, 860585, 860580, 860577, 860533, 860530, 860515, 860456, 860421, 860408, 860403, 860401, 860400, 860392, 860374, 860343, 860339, 860336, 860305, 860304, 860286, 860236, 860222, 860155, 860151, 860136, 859736, 859670, 853350, 851982, 851660, 850428, 843991, 842798, 842243, 841642, 838784, 838772, 838656, 838610, 838607, 838597, 838596, 838575, 838555, 838554, 838552, 838550, 838548, 838546, 838543, 838539, 838533, 838532, 838531, 838522, 838519, 838516, 838512, 838506, 838500, 838499, 838493, 838491, 838482, 838462, 838459, 838438, 838426, 838388, 838364, 838363, 838354, 838350, 838349, 838226, 838223, 838144, 837881, 836450, 835859, 835369, 827599, 818531, 816200, 816084, 816016, 815693, 815379, 815378, 815295, 815294, 815281, 815248, 815243, 815237, 815233, 815229, 815199, 815188, 815187, 815141, 815130, 815129, 815116, 815104, 815083, 814542, 812399, 812376, 811923, 802655, 801865, 797349, 796830, 796656, 795935, 795886, 795847, 795841, 795840, 795836, 795831, 795830, 795821, 795802, 795773, 795771, 795758, 795750, 795688, 795681, 790911, 789337, 788819, 788243, 786054, 782730, 781786, 780288, 780198, 780193, 780180, 780148, 780143, 780135, 780126, 780108, 780105, 779750, 779717, 779643, 777665, 777070, 777069, 773164, 771745, 762842, 762834, 762667, 762663, 762659, 762658, 762650, 762648, 762620, 762606, 762594, 762583, 762582, 762580, 762550, 762544, 762543, 762536, 762533, 762373, 748278, 747310, 747213, 747158, 747109, 746885, 746884, 746870, 746865, 746858, 746776, 746753, 746667, 746604, 746603, 746096, 743582, 740581, 740513, 740475, 740435, 740397, 739872, 739745, 739635, 736505, 735991, 735834, 735833, 735825, 735823, 735819, 735788, 735776, 735757, 729377, 727291, 726840, 726407, 726404, 726403, 726230, 725840, 725818, 725474, 719593, 715493, 711538, 707881, 707880, 707879, 707878, 707877, 707876, 707875, 707816, 1039040, 911129, 904947]\n"
     ]
    }
   ],
   "source": [
    "print(model.get_all_recommendations())"
   ]
  }
 ],
 "metadata": {
  "kernelspec": {
   "display_name": ".venv",
   "language": "python",
   "name": "python3"
  },
  "language_info": {
   "codemirror_mode": {
    "name": "ipython",
    "version": 3
   },
   "file_extension": ".py",
   "mimetype": "text/x-python",
   "name": "python",
   "nbconvert_exporter": "python",
   "pygments_lexer": "ipython3",
   "version": "3.10.12"
  }
 },
 "nbformat": 4,
 "nbformat_minor": 2
}
