{
 "cells": [
  {
   "cell_type": "code",
   "execution_count": 15,
   "metadata": {},
   "outputs": [],
   "source": [
    "import re\n",
    "\n",
    "def extract_numbers(title):\n",
    "    return [int(num) for num in re.findall(r'\\b\\d+\\b|(?<=[:\\-])\\d+', title)]\n",
    "    # return [int(num) for num in re.findall(r'(?<!\\d)\\d+(?!\\d)', title)]"
   ]
  },
  {
   "cell_type": "code",
   "execution_count": 16,
   "metadata": {},
   "outputs": [
    {
     "name": "stderr",
     "output_type": "stream",
     "text": [
      "2024-07-23 17:03:16,326 - root - INFO - DataProcessor instance created\n",
      "2024-07-23 17:03:16,347 - root - INFO - Loading data from: cycles_calendar\n",
      "2024-07-23 17:03:16,461 - root - INFO - Loading data from: categories_cleaned\n"
     ]
    },
    {
     "name": "stdout",
     "output_type": "stream",
     "text": [
      "Index(['date', 'holiday', 'parashat', 'roshchodesh', 'n_sefer', 'n_num',\n",
      "       'd_masechta', 'd_num', 'dw_masechta', 'dw_num', 'y_masechta', 'y_num',\n",
      "       'm_masechta', 'm_num1', 'm_num2'],\n",
      "      dtype='object')\n"
     ]
    },
    {
     "name": "stderr",
     "output_type": "stream",
     "text": [
      "2024-07-23 17:04:03,200 - root - INFO - Loading data from: shiurim_cleaned\n"
     ]
    },
    {
     "name": "stdout",
     "output_type": "stream",
     "text": [
      "                                        title    numbers\n",
      "1962                           Kidushin 41314    [41314]\n",
      "1963                           Kidushin 41112    [41112]\n",
      "1964                            Kidushin 4910     [4910]\n",
      "1965                             Kidushin 478      [478]\n",
      "1966                             Kidushin 456      [456]\n",
      "1967                             Kidushin 434      [434]\n",
      "1968                             Kidushin 412      [412]\n",
      "1969                           Kidushin 31213    [31213]\n",
      "1970                           Kidushin 31011    [31011]\n",
      "1971                             Kidushin 389      [389]\n",
      "1973                             Kidushin 367      [367]\n",
      "1974                             Kidushin 345      [345]\n",
      "1975                             Kidushin 323      [323]\n",
      "1976                           Kidushin 21031    [21031]\n",
      "1977                             Kidushin 289      [289]\n",
      "1978                             Kidushin 267      [267]\n",
      "1979                             Kidushin 245      [245]\n",
      "1980                             Kidushin 223      [223]\n",
      "1981                           Kidushin 11021    [11021]\n",
      "1982                             Kidushin 189      [189]\n",
      "1983                             Kidushin 167      [167]\n",
      "1984                             Kidushin 145      [145]\n",
      "1985                             Kidushin 123      [123]\n",
      "2578                 Gittin 910  Kiddushin 11  [910, 11]\n",
      "258012        Mishnayos Yomi Kiddushin 413414   [413414]\n",
      "258013        Mishnayos Yomi Kiddushin 411412   [411412]\n",
      "258014         Mishnayos Yomi Kiddushin 49410    [49410]\n",
      "258015          Mishnayos Yomi Kiddushin 4748     [4748]\n",
      "258016          Mishnayos Yomi Kiddushin 4546     [4546]\n",
      "258017          Mishnayos Yomi Kiddushin 4344     [4344]\n",
      "258018          Mishnayos Yomi Kiddushin 4142     [4142]\n",
      "258019        Mishnayos Yomi Kiddushin 312313   [312313]\n",
      "258020        Mishnayos Yomi Kiddushin 310311   [310311]\n",
      "258021          Mishnayos Yomi Kiddushin 3839     [3839]\n",
      "258022          Mishnayos Yomi Kiddushin 3637     [3637]\n",
      "258023          Mishnayos Yomi Kiddushin 3435     [3435]\n",
      "258024          Mishnayos Yomi Kiddushin 3233     [3233]\n",
      "258025         Mishnayos Yomi Kiddushin 21031    [21031]\n",
      "258026          Mishnayos Yomi Kiddushin 2829     [2829]\n",
      "258027          Mishnayos Yomi Kiddushin 2627     [2627]\n",
      "258028          Mishnayos Yomi Kiddushin 2425     [2425]\n",
      "258029          Mishnayos Yomi Kiddushin 2223     [2223]\n",
      "258030         Mishnayos Yomi Kiddushin 11021    [11021]\n",
      "258031          Mishnayos Yomi Kiddushin 1819     [1819]\n",
      "258032          Mishnayos Yomi Kiddushin 1617     [1617]\n",
      "258033          Mishnayos Yomi Kiddushin 1415     [1415]\n",
      "258034          Mishnayos Yomi Kiddushin 1213     [1213]\n",
      "258035  Mishnayos Yomi Gittin 910Kiddushin 11       [11]\n",
      "[]\n"
     ]
    }
   ],
   "source": [
    "from src.pipeline.data_processor import DataProcessor, CleanedData\n",
    "from enum import Enum\n",
    "from datetime import date, timedelta\n",
    "import pandas as pd\n",
    "\n",
    "\n",
    "dp = DataProcessor()\n",
    "calendar = dp.load_table(CleanedData.CALENDAR)\n",
    "print(calendar.columns)\n",
    "\n",
    "class LearningCycle(Enum):\n",
    "    DAF = [\"Daf Yomi\", \"category_Gemara\", \"d_masechta\", \"d_num\"]\n",
    "    WEEKLY_DAF = [\"Daf Hashvua\", \"category_Gemara\", \"dw_masechta\", \"dw_num\"]\n",
    "    MISHNAH = [\"Mishna Yomi LZN Daniel Ari ben Avraham Kadesh\", \"category_Mishna\", \"m_masechta\", \"m_num1\", \"m_num2\"]\n",
    "    PARSHA = [\"category_Parsha\", \"parashat\"]\n",
    "    NACH = [\"Nach Yomi\", \"category_Nach\", \"n_sefer\", \"n_num\"]\n",
    "    YERUSHALMI = [\"Yerushalmi Yomi\", \"category_Yerushalmi\", \"y_masechta\", \"y_num\"]\n",
    "\n",
    "def get_learning_cycle_recommendations(cycle:LearningCycle, date:date=date.today()):\n",
    "     if str(date) not in calendar['date'].values:\n",
    "          return []\n",
    "     date_data = calendar[calendar['date'] == str(date)]\n",
    "     if cycle in [LearningCycle.DAF, LearningCycle.WEEKLY_DAF, LearningCycle.NACH, LearningCycle.YERUSHALMI]:\n",
    "          df = get_standard_learning(cycle, date_data)\n",
    "     elif cycle == LearningCycle.PARSHA:\n",
    "          df = get_parsha_recommendations(cycle, date_data)\n",
    "     elif cycle == LearningCycle.MISHNAH:\n",
    "          df = get_mishna_recommendation(cycle, date_data)\n",
    "     else:\n",
    "          return []\n",
    "     # df.sort_values(by='date', inplace=True, ascending=False)\n",
    "     return(df[\"shiur\"].tolist())\n",
    "\n",
    "def get_standard_learning(cycle:LearningCycle, row:pd.DataFrame):\n",
    "     subcategory = row.iloc[0][cycle.value[2]]\n",
    "     subcategory = f'[{subcategory}]' if ' ' in subcategory else subcategory\n",
    "     df_categories = dp.load_table(CleanedData.CATEGORIES)\n",
    "     df_shiurim = dp.load_table(CleanedData.SHIURIM)\n",
    "     df_merged = pd.merge(df_categories, df_shiurim, on='shiur', suffixes=('_cat', '_shiur'))\n",
    "     df = df_merged.loc[\n",
    "     (df_merged[cycle.value[1]] == 1) & \n",
    "     (df_merged[row.iloc[0][cycle.value[2]]] == 1) &\n",
    "     (df_merged['series_name'] == cycle.value[0])\n",
    "     ].copy()\n",
    "     df.loc[:, 'numbers'] = df['title'].apply(extract_numbers)\n",
    "     cycle_value1 = int(row[cycle.value[3]].item() if hasattr(row[cycle.value[3]], 'item') else row[cycle.value[3]])\n",
    "     filtered_df = df[df['numbers'].apply(lambda x: x[0] == cycle_value1 if len(x) > 0 else False)]\n",
    "     filtered_df = filtered_df.drop(columns=['numbers'])\n",
    "     return filtered_df\n",
    "\n",
    "def get_parsha_recommendations(cycle:LearningCycle, row:pd.DataFrame):\n",
    "     subcategory = row.iloc[0][cycle.value[1]]\n",
    "     subcategory = f'[{subcategory}]' if ' ' in subcategory else subcategory\n",
    "     df_categories = dp.load_table(CleanedData.CATEGORIES)\n",
    "     df_shiurim = dp.load_table(CleanedData.SHIURIM)\n",
    "     df_merged = pd.merge(df_categories, df_shiurim, on='shiur', suffixes=('_cat', '_shiur'))\n",
    "     filtered_df = df_merged[\n",
    "     (df_merged[cycle.value[0]] == 1) & \n",
    "     (df_merged[subcategory] == 1)\n",
    "     ]\n",
    "     return filtered_df\n",
    "\n",
    "def get_mishna_recommendation(cycle:LearningCycle, row:pd.DataFrame):\n",
    "     subcategory = row.iloc[0][cycle.value[2]]\n",
    "     subcategory = f'[{subcategory}]' if ' ' in subcategory else subcategory\n",
    "     df_categories = dp.load_table(CleanedData.CATEGORIES)\n",
    "     df_shiurim = dp.load_table(CleanedData.SHIURIM)\n",
    "     df_merged = pd.merge(df_categories, df_shiurim, on='shiur', suffixes=('_cat', '_shiur'))\n",
    "     df = df_merged.loc[\n",
    "     (df_merged[cycle.value[1]] == 1) & \n",
    "     (df_merged[row.iloc[0][cycle.value[2]]] == 1) &\n",
    "     (df_merged['series_name'] == cycle.value[0])\n",
    "     ].copy()\n",
    "     df.loc[:, 'numbers'] = df['title'].apply(extract_numbers)\n",
    "     print(df[['title', 'numbers']])\n",
    "     cycle_value1 = int(row[cycle.value[3]].item() if hasattr(row[cycle.value[3]], 'item') else row[cycle.value[3]])\n",
    "     cycle_value2 = int(row[cycle.value[4]].item() if hasattr(row[cycle.value[4]], 'item') else row[cycle.value[4]])\n",
    "     filtered_df = df[df['numbers'].apply(lambda x: (x[0] == cycle_value1 and x[1] == cycle_value2) if len(x) > 1 else False)]\n",
    "     filtered_df = filtered_df.drop(columns=['numbers'])\n",
    "     return filtered_df\n",
    "\n",
    "print(get_learning_cycle_recommendations(LearningCycle.MISHNAH))"
   ]
  },
  {
   "cell_type": "code",
   "execution_count": 19,
   "metadata": {},
   "outputs": [
    {
     "name": "stderr",
     "output_type": "stream",
     "text": [
      "2024-07-23 17:10:29,386 - root - INFO - Loading data from: categories_cleaned\n",
      "2024-07-23 17:11:12,914 - root - INFO - Loading data from: shiurim_cleaned\n"
     ]
    },
    {
     "name": "stdout",
     "output_type": "stream",
     "text": [
      "[1075363, 1071128, 1070688, 1070686, 1070563, 1070415, 1070083, 1069552, 1069457, 1069454, 1069436, 1069435, 1069411, 1069409, 1069396, 1069376, 1069348, 1069338, 1069335, 1069330, 1069328, 1069318, 1069315, 1069302, 1069296, 1069291, 1069198, 1069159, 1069089, 1069079, 1068715, 1068658, 1059710, 1053099, 1047968, 1042645, 1039336, 1039297, 1039284, 1039264, 1039262, 1039257, 1039247, 1039113, 1039111, 1039110, 1039080, 1038666, 1038534, 1038489, 1038228, 1018968, 1017863, 1013512, 1007861, 1006471, 1006013, 1005338, 1005196, 1005194, 1005073, 1005010, 1005009, 1005005, 1004974, 1004962, 1004957, 1004954, 1004929, 1004917, 1004818, 1004810, 1004797, 1004795, 1004717, 1004697, 1004618, 1004602, 1004453, 1004362, 1004241, 1004075, 991336, 972892, 967905, 967898, 965933, 965913, 965311, 964298, 963289, 963034, 962955, 962929, 962871, 962828, 962814, 962811, 962782, 962773, 962760, 962754, 962737, 962733, 962703, 962702, 962694, 962692, 962451, 962438, 961716, 961561, 961038, 958469, 944347, 944346, 941725, 929934, 929894, 929883, 929874, 929664, 929548, 928999, 928830, 928805, 928778, 928774, 928764, 928762, 928760, 928756, 928736, 928700, 928694, 928659, 928578, 928519, 928504, 928448, 927475, 923702, 923453, 913531, 913509, 913102, 904625, 904524, 904324, 903768, 903763, 903714, 903684, 903683, 903668, 903664, 903652, 903643, 903603, 903580, 903469, 892071, 883080, 882535, 882180, 882049, 881954, 881633, 881629, 881611, 881592, 881555, 881109, 880974, 873516, 864767, 861307, 860480, 860448, 860445, 860386, 860281, 860248, 860216, 860149, 858575, 852422, 839105, 839101, 839072, 839068, 839008, 838940, 838741, 838653, 838647, 838563, 838493, 838426, 838378, 838340, 838339, 838334, 838331, 838330, 838329, 838292, 838283, 838256, 838205, 838201, 838189, 837954, 837729, 837540, 837126, 836286, 826973, 826852, 825901, 815780, 815693, 815339, 815334, 815327, 815323, 815274, 815260, 815257, 814052, 809442, 807117, 796214, 796138, 796136, 795995, 795937, 795936, 795882, 795881, 795871, 795865, 795863, 795834, 795801, 795799, 795774, 795754, 795753, 795734, 795721, 795720, 795718, 795717, 795693, 795692, 795691, 795613, 795612, 795596, 795595, 795594, 795593, 795591, 795590, 795585, 795379, 794787, 780428, 780111, 780107, 779732, 779731, 779714, 779641, 779633, 777995, 775363, 763384, 763238, 762922, 762837, 761180, 747156, 746858, 746809, 746732, 746269, 736505, 736374, 736293, 729441, 727291, 726384, 726109, 725840, 725819, 720705, 719888, 718902]\n"
     ]
    }
   ],
   "source": [
    "def get_holiday(start_date:date=date.today(), end_date:date=date.today()+timedelta(3)):\n",
    "      if str(start_date) not in calendar['date'].values:\n",
    "            return []\n",
    "      holiday_data = calendar[(calendar['date'] >= str(start_date)) & (calendar['date'] <= str(end_date))]\n",
    "      no_holiday = holiday_data['holiday'].isna().all()\n",
    "      no_roshchodesh = holiday_data['roshchodesh'].isna().all()\n",
    "      if no_holiday == False:\n",
    "            first_holiday = holiday_data['holiday'].dropna().iloc[0]\n",
    "            df_categories = dp.load_table(CleanedData.CATEGORIES)\n",
    "            df_shiurim = dp.load_table(CleanedData.SHIURIM)\n",
    "            df_merged = pd.merge(df_categories, df_shiurim, on='shiur', suffixes=('_cat', '_shiur'))\n",
    "            filtered_df = df_merged[(df_merged[first_holiday] == 1)]\n",
    "            return(filtered_df[\"shiur\"].tolist())\n",
    "      elif no_roshchodesh == False:\n",
    "            first_roshchodesh = holiday_data['holiday'].dropna().iloc[0]\n",
    "            df_categories = dp.load_table(CleanedData.CATEGORIES)\n",
    "            df_shiurim = dp.load_table(CleanedData.SHIURIM)\n",
    "            df_merged = pd.merge(df_categories, df_shiurim, on='shiur', suffixes=('_cat', '_shiur'))\n",
    "            filtered_df = df_merged[(df_merged[first_roshchodesh] == 1)]\n",
    "            return(filtered_df[\"shiur\"].tolist())\n",
    "      else:\n",
    "            return []\n",
    "print(get_holiday())\n"
   ]
  }
 ],
 "metadata": {
  "kernelspec": {
   "display_name": ".venv",
   "language": "python",
   "name": "python3"
  },
  "language_info": {
   "codemirror_mode": {
    "name": "ipython",
    "version": 3
   },
   "file_extension": ".py",
   "mimetype": "text/x-python",
   "name": "python",
   "nbconvert_exporter": "python",
   "pygments_lexer": "ipython3",
   "version": "3.10.12"
  }
 },
 "nbformat": 4,
 "nbformat_minor": 2
}
