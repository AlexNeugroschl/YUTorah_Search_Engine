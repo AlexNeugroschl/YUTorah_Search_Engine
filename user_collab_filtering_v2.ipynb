{
 "cells": [
  {
   "cell_type": "markdown",
   "metadata": {},
   "source": [
    "Collab Filtering V2\n",
    "uses deep learning on a specialized set"
   ]
  },
  {
   "cell_type": "code",
   "execution_count": 171,
   "metadata": {},
   "outputs": [],
   "source": [
    "from src.pipeline.data_processor import DataProcessor, CleanedData"
   ]
  },
  {
   "cell_type": "markdown",
   "metadata": {},
   "source": [
    "Setting up data"
   ]
  },
  {
   "cell_type": "code",
   "execution_count": 172,
   "metadata": {},
   "outputs": [],
   "source": [
    "# db = DataProcessor()\n",
    "# df = db.load_query(f\"\"\"\n",
    "#     SELECT * FROM {CleanedData.BOOKMARKS.value} usb\n",
    "#     WHERE usb.listen_percentage > 0.0 AND usb.listen_percentage <= 1\n",
    "#      \"\"\")\n",
    "# df.head()"
   ]
  },
  {
   "cell_type": "code",
   "execution_count": 173,
   "metadata": {},
   "outputs": [
    {
     "data": {
      "text/plain": [
       "(66691, 32)"
      ]
     },
     "execution_count": 173,
     "metadata": {},
     "output_type": "execute_result"
    }
   ],
   "source": [
    "df.shape"
   ]
  },
  {
   "cell_type": "code",
   "execution_count": 174,
   "metadata": {},
   "outputs": [
    {
     "name": "stderr",
     "output_type": "stream",
     "text": [
      "2024-07-10 10:43:55,117 - root - INFO - DataProcessor instance created\n",
      "2024-07-10 10:43:55,119 - root - INFO - Loading data with query: \n",
      "    SELECT * FROM bookmarks_cleaned usb\n",
      "    JOIN shiurim_cleaned st ON usb.shiur = st.shiur \n",
      "    WHERE st.last_name = 'Lebowitz'\n",
      "    AND usb.listen_percentage <> 0.0\n",
      "     \n"
     ]
    },
    {
     "data": {
      "text/html": [
       "<div>\n",
       "<style scoped>\n",
       "    .dataframe tbody tr th:only-of-type {\n",
       "        vertical-align: middle;\n",
       "    }\n",
       "\n",
       "    .dataframe tbody tr th {\n",
       "        vertical-align: top;\n",
       "    }\n",
       "\n",
       "    .dataframe thead th {\n",
       "        text-align: right;\n",
       "    }\n",
       "</style>\n",
       "<table border=\"1\" class=\"dataframe\">\n",
       "  <thead>\n",
       "    <tr style=\"text-align: right;\">\n",
       "      <th></th>\n",
       "      <th>user</th>\n",
       "      <th>shiur</th>\n",
       "      <th>session</th>\n",
       "      <th>bookmark</th>\n",
       "      <th>timestamp</th>\n",
       "      <th>queue_date</th>\n",
       "      <th>played</th>\n",
       "      <th>date_played</th>\n",
       "      <th>downloaded</th>\n",
       "      <th>date_downloaded</th>\n",
       "      <th>...</th>\n",
       "      <th>duration</th>\n",
       "      <th>keywords</th>\n",
       "      <th>category</th>\n",
       "      <th>middle_category</th>\n",
       "      <th>subcategory</th>\n",
       "      <th>location</th>\n",
       "      <th>location_type</th>\n",
       "      <th>series_name</th>\n",
       "      <th>series_description</th>\n",
       "      <th>full_details</th>\n",
       "    </tr>\n",
       "  </thead>\n",
       "  <tbody>\n",
       "    <tr>\n",
       "      <th>0</th>\n",
       "      <td>18520</td>\n",
       "      <td>745630</td>\n",
       "      <td>YUTORAH_BETA_SESSIONAPP_47112235_75352045</td>\n",
       "      <td>lastPlayed</td>\n",
       "      <td>144.673982</td>\n",
       "      <td>None</td>\n",
       "      <td>1</td>\n",
       "      <td>2017-05-19 08:42:07.857000</td>\n",
       "      <td>0</td>\n",
       "      <td>None</td>\n",
       "      <td>...</td>\n",
       "      <td>628.0</td>\n",
       "      <td>scent smell aroma roses perfume</td>\n",
       "      <td>Halacha</td>\n",
       "      <td>Orach Chaim</td>\n",
       "      <td>Brachot</td>\n",
       "      <td>Yeshivat Lev Shlomo (Woodmere, NY)</td>\n",
       "      <td>YESHIVA</td>\n",
       "      <td>Ten Minute Halacha</td>\n",
       "      <td></td>\n",
       "      <td>Title Ten Minute Halacha  Berachos on Smells Speaker Lebowitz Category Halacha</td>\n",
       "    </tr>\n",
       "    <tr>\n",
       "      <th>1</th>\n",
       "      <td>18520</td>\n",
       "      <td>745630</td>\n",
       "      <td>YUTORAH_BETA_SESSIONAPP_47112235_75352045</td>\n",
       "      <td>queue</td>\n",
       "      <td>144.673982</td>\n",
       "      <td>2017-05-19 08:39:42.873000</td>\n",
       "      <td>1</td>\n",
       "      <td>2017-05-19 08:42:07.860000</td>\n",
       "      <td>0</td>\n",
       "      <td>None</td>\n",
       "      <td>...</td>\n",
       "      <td>628.0</td>\n",
       "      <td>scent smell aroma roses perfume</td>\n",
       "      <td>Halacha</td>\n",
       "      <td>Orach Chaim</td>\n",
       "      <td>Brachot</td>\n",
       "      <td>Yeshivat Lev Shlomo (Woodmere, NY)</td>\n",
       "      <td>YESHIVA</td>\n",
       "      <td>Ten Minute Halacha</td>\n",
       "      <td></td>\n",
       "      <td>Title Ten Minute Halacha  Berachos on Smells Speaker Lebowitz Category Halacha</td>\n",
       "    </tr>\n",
       "    <tr>\n",
       "      <th>2</th>\n",
       "      <td>38747</td>\n",
       "      <td>745630</td>\n",
       "      <td>YUTORAH_BETA_SESSIONAPP_111740209_64070166</td>\n",
       "      <td>lastPlayed</td>\n",
       "      <td>559.575995</td>\n",
       "      <td>None</td>\n",
       "      <td>1</td>\n",
       "      <td>2019-07-17 18:02:58.600000</td>\n",
       "      <td>0</td>\n",
       "      <td>None</td>\n",
       "      <td>...</td>\n",
       "      <td>628.0</td>\n",
       "      <td>scent smell aroma roses perfume</td>\n",
       "      <td>Halacha</td>\n",
       "      <td>Orach Chaim</td>\n",
       "      <td>Brachot</td>\n",
       "      <td>Yeshivat Lev Shlomo (Woodmere, NY)</td>\n",
       "      <td>YESHIVA</td>\n",
       "      <td>Ten Minute Halacha</td>\n",
       "      <td></td>\n",
       "      <td>Title Ten Minute Halacha  Berachos on Smells Speaker Lebowitz Category Halacha</td>\n",
       "    </tr>\n",
       "    <tr>\n",
       "      <th>3</th>\n",
       "      <td>39995</td>\n",
       "      <td>745630</td>\n",
       "      <td>YUTORAH_BETA_SESSIONAPP_31798244_90104765</td>\n",
       "      <td>lastPlayed</td>\n",
       "      <td>501.490522</td>\n",
       "      <td>None</td>\n",
       "      <td>1</td>\n",
       "      <td>2016-09-18 07:38:03.403000</td>\n",
       "      <td>0</td>\n",
       "      <td>None</td>\n",
       "      <td>...</td>\n",
       "      <td>628.0</td>\n",
       "      <td>scent smell aroma roses perfume</td>\n",
       "      <td>Halacha</td>\n",
       "      <td>Orach Chaim</td>\n",
       "      <td>Brachot</td>\n",
       "      <td>Yeshivat Lev Shlomo (Woodmere, NY)</td>\n",
       "      <td>YESHIVA</td>\n",
       "      <td>Ten Minute Halacha</td>\n",
       "      <td></td>\n",
       "      <td>Title Ten Minute Halacha  Berachos on Smells Speaker Lebowitz Category Halacha</td>\n",
       "    </tr>\n",
       "    <tr>\n",
       "      <th>4</th>\n",
       "      <td>39995</td>\n",
       "      <td>745630</td>\n",
       "      <td>YUTORAH_BETA_SESSIONAPP_31798244_90104765</td>\n",
       "      <td>queue</td>\n",
       "      <td>501.490522</td>\n",
       "      <td>2016-09-18 05:48:12.090000</td>\n",
       "      <td>1</td>\n",
       "      <td>2016-09-18 07:38:03.410000</td>\n",
       "      <td>0</td>\n",
       "      <td>None</td>\n",
       "      <td>...</td>\n",
       "      <td>628.0</td>\n",
       "      <td>scent smell aroma roses perfume</td>\n",
       "      <td>Halacha</td>\n",
       "      <td>Orach Chaim</td>\n",
       "      <td>Brachot</td>\n",
       "      <td>Yeshivat Lev Shlomo (Woodmere, NY)</td>\n",
       "      <td>YESHIVA</td>\n",
       "      <td>Ten Minute Halacha</td>\n",
       "      <td></td>\n",
       "      <td>Title Ten Minute Halacha  Berachos on Smells Speaker Lebowitz Category Halacha</td>\n",
       "    </tr>\n",
       "  </tbody>\n",
       "</table>\n",
       "<p>5 rows × 29 columns</p>\n",
       "</div>"
      ],
      "text/plain": [
       "    user   shiur                                     session    bookmark  \\\n",
       "0  18520  745630   YUTORAH_BETA_SESSIONAPP_47112235_75352045  lastPlayed   \n",
       "1  18520  745630   YUTORAH_BETA_SESSIONAPP_47112235_75352045       queue   \n",
       "2  38747  745630  YUTORAH_BETA_SESSIONAPP_111740209_64070166  lastPlayed   \n",
       "3  39995  745630   YUTORAH_BETA_SESSIONAPP_31798244_90104765  lastPlayed   \n",
       "4  39995  745630   YUTORAH_BETA_SESSIONAPP_31798244_90104765       queue   \n",
       "\n",
       "    timestamp                  queue_date  played                 date_played  \\\n",
       "0  144.673982                        None       1  2017-05-19 08:42:07.857000   \n",
       "1  144.673982  2017-05-19 08:39:42.873000       1  2017-05-19 08:42:07.860000   \n",
       "2  559.575995                        None       1  2019-07-17 18:02:58.600000   \n",
       "3  501.490522                        None       1  2016-09-18 07:38:03.403000   \n",
       "4  501.490522  2016-09-18 05:48:12.090000       1  2016-09-18 07:38:03.410000   \n",
       "\n",
       "   downloaded date_downloaded  ...  duration                         keywords  \\\n",
       "0           0            None  ...     628.0  scent smell aroma roses perfume   \n",
       "1           0            None  ...     628.0  scent smell aroma roses perfume   \n",
       "2           0            None  ...     628.0  scent smell aroma roses perfume   \n",
       "3           0            None  ...     628.0  scent smell aroma roses perfume   \n",
       "4           0            None  ...     628.0  scent smell aroma roses perfume   \n",
       "\n",
       "   category middle_category subcategory                            location  \\\n",
       "0   Halacha     Orach Chaim     Brachot  Yeshivat Lev Shlomo (Woodmere, NY)   \n",
       "1   Halacha     Orach Chaim     Brachot  Yeshivat Lev Shlomo (Woodmere, NY)   \n",
       "2   Halacha     Orach Chaim     Brachot  Yeshivat Lev Shlomo (Woodmere, NY)   \n",
       "3   Halacha     Orach Chaim     Brachot  Yeshivat Lev Shlomo (Woodmere, NY)   \n",
       "4   Halacha     Orach Chaim     Brachot  Yeshivat Lev Shlomo (Woodmere, NY)   \n",
       "\n",
       "  location_type         series_name series_description  \\\n",
       "0       YESHIVA  Ten Minute Halacha                      \n",
       "1       YESHIVA  Ten Minute Halacha                      \n",
       "2       YESHIVA  Ten Minute Halacha                      \n",
       "3       YESHIVA  Ten Minute Halacha                      \n",
       "4       YESHIVA  Ten Minute Halacha                      \n",
       "\n",
       "                                                                     full_details  \n",
       "0  Title Ten Minute Halacha  Berachos on Smells Speaker Lebowitz Category Halacha  \n",
       "1  Title Ten Minute Halacha  Berachos on Smells Speaker Lebowitz Category Halacha  \n",
       "2  Title Ten Minute Halacha  Berachos on Smells Speaker Lebowitz Category Halacha  \n",
       "3  Title Ten Minute Halacha  Berachos on Smells Speaker Lebowitz Category Halacha  \n",
       "4  Title Ten Minute Halacha  Berachos on Smells Speaker Lebowitz Category Halacha  \n",
       "\n",
       "[5 rows x 29 columns]"
      ]
     },
     "execution_count": 174,
     "metadata": {},
     "output_type": "execute_result"
    }
   ],
   "source": [
    "db = DataProcessor()\n",
    "df = db.load_query(f\"\"\"\n",
    "    SELECT * FROM {CleanedData.BOOKMARKS.value} usb\n",
    "    JOIN {CleanedData.SHIURIM.value} st ON usb.shiur = st.shiur \n",
    "    WHERE st.last_name = 'Lebowitz'\n",
    "    AND usb.listen_percentage <> 0.0\n",
    "     \"\"\")\n",
    "df.head()"
   ]
  },
  {
   "cell_type": "markdown",
   "metadata": {},
   "source": [
    "Filtering Data"
   ]
  },
  {
   "cell_type": "code",
   "execution_count": 175,
   "metadata": {},
   "outputs": [
    {
     "data": {
      "text/html": [
       "<div>\n",
       "<style scoped>\n",
       "    .dataframe tbody tr th:only-of-type {\n",
       "        vertical-align: middle;\n",
       "    }\n",
       "\n",
       "    .dataframe tbody tr th {\n",
       "        vertical-align: top;\n",
       "    }\n",
       "\n",
       "    .dataframe thead th {\n",
       "        text-align: right;\n",
       "    }\n",
       "</style>\n",
       "<table border=\"1\" class=\"dataframe\">\n",
       "  <thead>\n",
       "    <tr style=\"text-align: right;\">\n",
       "      <th></th>\n",
       "      <th>user</th>\n",
       "      <th>shiur</th>\n",
       "      <th>rating</th>\n",
       "    </tr>\n",
       "  </thead>\n",
       "  <tbody>\n",
       "    <tr>\n",
       "      <th>0</th>\n",
       "      <td>18520</td>\n",
       "      <td>745630</td>\n",
       "      <td>1</td>\n",
       "    </tr>\n",
       "    <tr>\n",
       "      <th>2</th>\n",
       "      <td>38747</td>\n",
       "      <td>745630</td>\n",
       "      <td>1</td>\n",
       "    </tr>\n",
       "    <tr>\n",
       "      <th>3</th>\n",
       "      <td>39995</td>\n",
       "      <td>745630</td>\n",
       "      <td>1</td>\n",
       "    </tr>\n",
       "    <tr>\n",
       "      <th>5</th>\n",
       "      <td>40236</td>\n",
       "      <td>745630</td>\n",
       "      <td>1</td>\n",
       "    </tr>\n",
       "    <tr>\n",
       "      <th>7</th>\n",
       "      <td>83759</td>\n",
       "      <td>745630</td>\n",
       "      <td>1</td>\n",
       "    </tr>\n",
       "  </tbody>\n",
       "</table>\n",
       "</div>"
      ],
      "text/plain": [
       "    user   shiur  rating\n",
       "0  18520  745630       1\n",
       "2  38747  745630       1\n",
       "3  39995  745630       1\n",
       "5  40236  745630       1\n",
       "7  83759  745630       1"
      ]
     },
     "execution_count": 175,
     "metadata": {},
     "output_type": "execute_result"
    }
   ],
   "source": [
    "import numpy as np\n",
    "from sklearn.preprocessing import PowerTransformer\n",
    "\n",
    "\n",
    "columns_to_keep = ['user', 'shiur',]\n",
    "df = df[columns_to_keep]\n",
    "df.columns = ['user', 'shiur', 'shiur_duped']\n",
    "df.drop(columns='shiur_duped', inplace=True)\n",
    "df.drop_duplicates(subset=['user', 'shiur'], inplace=True)\n",
    "df['shiur'] = df['shiur'].astype(str)\n",
    "df['user'] = df['user'].astype(str)\n",
    "# yeo_johnson_transformer = PowerTransformer(method='yeo-johnson')\n",
    "# df['listen_percentage_log'] = yeo_johnson_transformer.fit_transform(df[['listen_percentage']])\n",
    "df['rating'] = 1\n",
    "\n",
    "df.head()"
   ]
  },
  {
   "cell_type": "code",
   "execution_count": 176,
   "metadata": {},
   "outputs": [
    {
     "data": {
      "text/plain": [
       "(66691, 3)"
      ]
     },
     "execution_count": 176,
     "metadata": {},
     "output_type": "execute_result"
    }
   ],
   "source": [
    "df.shape"
   ]
  },
  {
   "cell_type": "code",
   "execution_count": 177,
   "metadata": {},
   "outputs": [],
   "source": [
    "# import matplotlib.pyplot as plt\n",
    "# import seaborn as sns\n",
    "\n",
    "# # Plot histogram\n",
    "# plt.figure(figsize=(10, 5))\n",
    "# sns.histplot(df['listen_percentage_log'], bins=50, kde=True)\n",
    "# plt.title('Distribution of Listen Percentage')\n",
    "# plt.xlabel('Listen Percentage')\n",
    "# plt.ylabel('Frequency')\n",
    "# plt.show()\n",
    "\n",
    "# # Plot box plot\n",
    "# plt.figure(figsize=(10, 5))\n",
    "# sns.boxplot(x=df['listen_percentage_log'])\n",
    "# plt.title('Box Plot of Listen Percentage')\n",
    "# plt.xlabel('Listen Percentage')\n",
    "# plt.show()"
   ]
  },
  {
   "cell_type": "markdown",
   "metadata": {},
   "source": [
    "Limiting data"
   ]
  },
  {
   "cell_type": "code",
   "execution_count": 178,
   "metadata": {},
   "outputs": [
    {
     "data": {
      "text/html": [
       "<div>\n",
       "<style scoped>\n",
       "    .dataframe tbody tr th:only-of-type {\n",
       "        vertical-align: middle;\n",
       "    }\n",
       "\n",
       "    .dataframe tbody tr th {\n",
       "        vertical-align: top;\n",
       "    }\n",
       "\n",
       "    .dataframe thead th {\n",
       "        text-align: right;\n",
       "    }\n",
       "</style>\n",
       "<table border=\"1\" class=\"dataframe\">\n",
       "  <thead>\n",
       "    <tr style=\"text-align: right;\">\n",
       "      <th></th>\n",
       "      <th>index</th>\n",
       "      <th>user</th>\n",
       "      <th>shiur</th>\n",
       "      <th>rating</th>\n",
       "    </tr>\n",
       "  </thead>\n",
       "  <tbody>\n",
       "    <tr>\n",
       "      <th>66690</th>\n",
       "      <td>128234</td>\n",
       "      <td>216048</td>\n",
       "      <td>1067053</td>\n",
       "      <td>1</td>\n",
       "    </tr>\n",
       "    <tr>\n",
       "      <th>66689</th>\n",
       "      <td>128232</td>\n",
       "      <td>212902</td>\n",
       "      <td>1067053</td>\n",
       "      <td>1</td>\n",
       "    </tr>\n",
       "    <tr>\n",
       "      <th>66688</th>\n",
       "      <td>128230</td>\n",
       "      <td>196675</td>\n",
       "      <td>1067053</td>\n",
       "      <td>1</td>\n",
       "    </tr>\n",
       "    <tr>\n",
       "      <th>66687</th>\n",
       "      <td>128228</td>\n",
       "      <td>909</td>\n",
       "      <td>1067053</td>\n",
       "      <td>1</td>\n",
       "    </tr>\n",
       "    <tr>\n",
       "      <th>66686</th>\n",
       "      <td>128227</td>\n",
       "      <td>216314</td>\n",
       "      <td>1066972</td>\n",
       "      <td>1</td>\n",
       "    </tr>\n",
       "  </tbody>\n",
       "</table>\n",
       "</div>"
      ],
      "text/plain": [
       "        index    user    shiur  rating\n",
       "66690  128234  216048  1067053       1\n",
       "66689  128232  212902  1067053       1\n",
       "66688  128230  196675  1067053       1\n",
       "66687  128228     909  1067053       1\n",
       "66686  128227  216314  1066972       1"
      ]
     },
     "execution_count": 178,
     "metadata": {},
     "output_type": "execute_result"
    }
   ],
   "source": [
    "df.reset_index(inplace=True)\n",
    "df.sort_values(by='index', ascending=False, inplace=True)\n",
    "df = df.iloc[:100000]\n",
    "df.head()"
   ]
  },
  {
   "cell_type": "markdown",
   "metadata": {},
   "source": [
    "FastAI setup"
   ]
  },
  {
   "cell_type": "code",
   "execution_count": 179,
   "metadata": {},
   "outputs": [
    {
     "data": {
      "text/html": [
       "<table border=\"1\" class=\"dataframe\">\n",
       "  <thead>\n",
       "    <tr style=\"text-align: right;\">\n",
       "      <th></th>\n",
       "      <th>user</th>\n",
       "      <th>shiur</th>\n",
       "      <th>rating</th>\n",
       "    </tr>\n",
       "  </thead>\n",
       "  <tbody>\n",
       "    <tr>\n",
       "      <th>0</th>\n",
       "      <td>42328</td>\n",
       "      <td>793888</td>\n",
       "      <td>1</td>\n",
       "    </tr>\n",
       "    <tr>\n",
       "      <th>1</th>\n",
       "      <td>48123</td>\n",
       "      <td>743462</td>\n",
       "      <td>1</td>\n",
       "    </tr>\n",
       "    <tr>\n",
       "      <th>2</th>\n",
       "      <td>8176</td>\n",
       "      <td>853836</td>\n",
       "      <td>1</td>\n",
       "    </tr>\n",
       "    <tr>\n",
       "      <th>3</th>\n",
       "      <td>24301</td>\n",
       "      <td>803756</td>\n",
       "      <td>1</td>\n",
       "    </tr>\n",
       "    <tr>\n",
       "      <th>4</th>\n",
       "      <td>14634</td>\n",
       "      <td>810267</td>\n",
       "      <td>1</td>\n",
       "    </tr>\n",
       "    <tr>\n",
       "      <th>5</th>\n",
       "      <td>31330</td>\n",
       "      <td>928664</td>\n",
       "      <td>1</td>\n",
       "    </tr>\n",
       "    <tr>\n",
       "      <th>6</th>\n",
       "      <td>26211</td>\n",
       "      <td>820529</td>\n",
       "      <td>1</td>\n",
       "    </tr>\n",
       "    <tr>\n",
       "      <th>7</th>\n",
       "      <td>27366</td>\n",
       "      <td>782296</td>\n",
       "      <td>1</td>\n",
       "    </tr>\n",
       "    <tr>\n",
       "      <th>8</th>\n",
       "      <td>36354</td>\n",
       "      <td>757162</td>\n",
       "      <td>1</td>\n",
       "    </tr>\n",
       "    <tr>\n",
       "      <th>9</th>\n",
       "      <td>47569</td>\n",
       "      <td>942100</td>\n",
       "      <td>1</td>\n",
       "    </tr>\n",
       "  </tbody>\n",
       "</table>"
      ],
      "text/plain": [
       "<IPython.core.display.HTML object>"
      ]
     },
     "metadata": {},
     "output_type": "display_data"
    }
   ],
   "source": [
    "from fastai.collab import *\n",
    "\n",
    "dls = CollabDataLoaders.from_df(df, user_name='user', item_name='shiur', rating_name='rating', bs=64)\n",
    "dls.show_batch()"
   ]
  },
  {
   "cell_type": "markdown",
   "metadata": {},
   "source": [
    "Run model"
   ]
  },
  {
   "cell_type": "code",
   "execution_count": 180,
   "metadata": {},
   "outputs": [
    {
     "data": {
      "text/html": [
       "\n",
       "<style>\n",
       "    /* Turns off some styling */\n",
       "    progress {\n",
       "        /* gets rid of default border in Firefox and Opera. */\n",
       "        border: none;\n",
       "        /* Needs to be in here for Safari polyfill so background images work as expected. */\n",
       "        background-size: auto;\n",
       "    }\n",
       "    progress:not([value]), progress:not([value])::-webkit-progress-bar {\n",
       "        background: repeating-linear-gradient(45deg, #7e7e7e, #7e7e7e 10px, #5c5c5c 10px, #5c5c5c 20px);\n",
       "    }\n",
       "    .progress-bar-interrupted, .progress-bar-interrupted::-webkit-progress-bar {\n",
       "        background: #F44336;\n",
       "    }\n",
       "</style>\n"
      ],
      "text/plain": [
       "<IPython.core.display.HTML object>"
      ]
     },
     "metadata": {},
     "output_type": "display_data"
    },
    {
     "data": {
      "text/html": [],
      "text/plain": [
       "<IPython.core.display.HTML object>"
      ]
     },
     "metadata": {},
     "output_type": "display_data"
    },
    {
     "name": "stdout",
     "output_type": "stream",
     "text": [
      "SuggestedLRs(valley=0.007585775572806597)\n"
     ]
    },
    {
     "data": {
      "image/png": "[encoded data removed]",
      "text/plain": [
       "<Figure size 640x480 with 1 Axes>"
      ]
     },
     "metadata": {},
     "output_type": "display_data"
    }
   ],
   "source": [
    "from fastai.vision.all import *\n",
    "\n",
    "learn = collab_learner(dls, n_factors=50, y_range=(0, 1), use_nn=True, layers=[100, 50], loss_func=MSELossFlat())#BCEWithLogitsLossFlat layers=[200, 150, 100], \n",
    "optimal_lr = learn.lr_find()\n",
    "print(optimal_lr)"
   ]
  },
  {
   "cell_type": "code",
   "execution_count": 181,
   "metadata": {},
   "outputs": [],
   "source": [
    "# user_weights_before = learn.model.u_weight.weight.data.clone()\n",
    "# item_weights_before = learn.model.i_weight.weight.data.clone()\n",
    "# print(\"Initial User Weights:\", user_weights_before[:5])\n",
    "# print(\"Initial Item Weights:\", item_weights_before[:5])"
   ]
  },
  {
   "cell_type": "code",
   "execution_count": 182,
   "metadata": {},
   "outputs": [
    {
     "data": {
      "text/html": [
       "\n",
       "<style>\n",
       "    /* Turns off some styling */\n",
       "    progress {\n",
       "        /* gets rid of default border in Firefox and Opera. */\n",
       "        border: none;\n",
       "        /* Needs to be in here for Safari polyfill so background images work as expected. */\n",
       "        background-size: auto;\n",
       "    }\n",
       "    progress:not([value]), progress:not([value])::-webkit-progress-bar {\n",
       "        background: repeating-linear-gradient(45deg, #7e7e7e, #7e7e7e 10px, #5c5c5c 10px, #5c5c5c 20px);\n",
       "    }\n",
       "    .progress-bar-interrupted, .progress-bar-interrupted::-webkit-progress-bar {\n",
       "        background: #F44336;\n",
       "    }\n",
       "</style>\n"
      ],
      "text/plain": [
       "<IPython.core.display.HTML object>"
      ]
     },
     "metadata": {},
     "output_type": "display_data"
    },
    {
     "data": {
      "text/html": [
       "<table border=\"1\" class=\"dataframe\">\n",
       "  <thead>\n",
       "    <tr style=\"text-align: left;\">\n",
       "      <th>epoch</th>\n",
       "      <th>train_loss</th>\n",
       "      <th>valid_loss</th>\n",
       "      <th>time</th>\n",
       "    </tr>\n",
       "  </thead>\n",
       "  <tbody>\n",
       "    <tr>\n",
       "      <td>0</td>\n",
       "      <td>0.000053</td>\n",
       "      <td>0.000035</td>\n",
       "      <td>00:13</td>\n",
       "    </tr>\n",
       "    <tr>\n",
       "      <td>1</td>\n",
       "      <td>0.000001</td>\n",
       "      <td>0.000001</td>\n",
       "      <td>00:19</td>\n",
       "    </tr>\n",
       "    <tr>\n",
       "      <td>2</td>\n",
       "      <td>0.000000</td>\n",
       "      <td>0.000000</td>\n",
       "      <td>00:22</td>\n",
       "    </tr>\n",
       "    <tr>\n",
       "      <td>3</td>\n",
       "      <td>0.000000</td>\n",
       "      <td>0.000000</td>\n",
       "      <td>00:25</td>\n",
       "    </tr>\n",
       "    <tr>\n",
       "      <td>4</td>\n",
       "      <td>0.000000</td>\n",
       "      <td>0.000000</td>\n",
       "      <td>00:21</td>\n",
       "    </tr>\n",
       "  </tbody>\n",
       "</table>"
      ],
      "text/plain": [
       "<IPython.core.display.HTML object>"
      ]
     },
     "metadata": {},
     "output_type": "display_data"
    }
   ],
   "source": [
    "learn.fit_one_cycle(5, optimal_lr, wd=0.1)"
   ]
  },
  {
   "cell_type": "code",
   "execution_count": 183,
   "metadata": {},
   "outputs": [
    {
     "data": {
      "text/plain": [
       "EmbeddingNN(\n",
       "  (embeds): ModuleList(\n",
       "    (0): Embedding(8205, 249)\n",
       "    (1): Embedding(9141, 264)\n",
       "  )\n",
       "  (emb_drop): Dropout(p=0.0, inplace=False)\n",
       "  (bn_cont): BatchNorm1d(0, eps=1e-05, momentum=0.1, affine=True, track_running_stats=True)\n",
       "  (layers): Sequential(\n",
       "    (0): LinBnDrop(\n",
       "      (0): Linear(in_features=513, out_features=100, bias=False)\n",
       "      (1): ReLU(inplace=True)\n",
       "      (2): BatchNorm1d(100, eps=1e-05, momentum=0.1, affine=True, track_running_stats=True)\n",
       "    )\n",
       "    (1): LinBnDrop(\n",
       "      (0): Linear(in_features=100, out_features=50, bias=False)\n",
       "      (1): ReLU(inplace=True)\n",
       "      (2): BatchNorm1d(50, eps=1e-05, momentum=0.1, affine=True, track_running_stats=True)\n",
       "    )\n",
       "    (2): LinBnDrop(\n",
       "      (0): Linear(in_features=50, out_features=1, bias=True)\n",
       "    )\n",
       "    (3): fastai.layers.SigmoidRange(low=0, high=1)\n",
       "  )\n",
       ")"
      ]
     },
     "execution_count": 183,
     "metadata": {},
     "output_type": "execute_result"
    }
   ],
   "source": [
    "learn.model"
   ]
  },
  {
   "cell_type": "code",
   "execution_count": 184,
   "metadata": {},
   "outputs": [],
   "source": [
    "# user_weights_after = learn.model.u_weight.weight.data\n",
    "# item_weights_after = learn.model.i_weight.weight.data\n",
    "# print(\"User Weights After Training:\", user_weights_after[:5])\n",
    "# print(\"Item Weights After Training:\", item_weights_after[:5])"
   ]
  },
  {
   "cell_type": "code",
   "execution_count": 185,
   "metadata": {},
   "outputs": [],
   "source": [
    "# import matplotlib.pyplot as plt\n",
    "\n",
    "# user_embeddings = learn.model.embeds[0].weight.detach().cpu().numpy()\n",
    "# item_embeddings = learn.model.embeds[1].weight.detach().cpu().numpy()\n",
    "\n",
    "# plt.figure(figsize=(12, 6))\n",
    "# plt.subplot(1, 2, 1)\n",
    "# plt.hist(user_embeddings.flatten(), bins=50)\n",
    "# plt.title('User Embeddings Distribution')\n",
    "\n",
    "# plt.subplot(1, 2, 2)\n",
    "# plt.hist(item_embeddings.flatten(), bins=50)\n",
    "# plt.title('Item Embeddings Distribution')\n",
    "\n",
    "# plt.show()"
   ]
  },
  {
   "cell_type": "markdown",
   "metadata": {},
   "source": [
    "save model"
   ]
  },
  {
   "cell_type": "code",
   "execution_count": 189,
   "metadata": {},
   "outputs": [],
   "source": [
    "learn.export(\"saved_models/user_collab_filtering_v2.pkl\")"
   ]
  },
  {
   "cell_type": "markdown",
   "metadata": {},
   "source": [
    "Model class"
   ]
  },
  {
   "cell_type": "code",
   "execution_count": 187,
   "metadata": {},
   "outputs": [],
   "source": [
    "from typing import Dict, List\n",
    "\n",
    "\n",
    "class UserCollabFilteringV2:\n",
    "    def __init__(self):\n",
    "        self.model = load_learner(\"saved_models/user_collab_filtering_v2.pkl\")\n",
    "\n",
    "    def get_recommendations(self, user_id: str = None, *args, **kwargs) -> List[int]:\n",
    "        user_id = int(float(user_id))\n",
    "        item_ids = dls.classes['shiur'].items[1:] # to avoid the na value\n",
    "        item_ids = [int(item_id) for item_id in item_ids]\n",
    "        user_tensor = torch.tensor([user_id] * len(item_ids)).unsqueeze(1)\n",
    "        item_tensor = torch.tensor(item_ids).unsqueeze(1)\n",
    "        input_tensor = torch.cat((user_tensor, item_tensor), dim=1)\n",
    "        \n",
    "        # Get predictions\n",
    "        input_df = pd.DataFrame(input_tensor.numpy(), columns=['user', 'shiur'])\n",
    "        user_item_dl = dls.test_dl(input_df)\n",
    "        preds, _ = learn.get_preds(dl=user_item_dl)\n",
    "        \n",
    "        # Get top N recommendations\n",
    "        top_n = kwargs.get('top_n', 10)\n",
    "        top_indices = torch.argsort(preds, descending=True)[:top_n]\n",
    "        top_item_ids = [item_ids[idx.item()] for idx in top_indices]\n",
    "        return top_item_ids\n",
    "\n",
    "    def get_weighted_recommendations(self, user_id: str = None, *args, **kwargs) -> Dict[int, float]:\n",
    "        top_n = kwargs.get('top_n', 10)\n",
    "        user_id = int(user_id)\n",
    "        item_ids = dls.classes['shiur'].items[1:]\n",
    "        item_ids = [int(item_id) for item_id in item_ids]\n",
    "        user_tensor = torch.tensor([user_id] * len(item_ids)).unsqueeze(1)\n",
    "        item_tensor = torch.tensor(item_ids).unsqueeze(1)\n",
    "        input_tensor = torch.cat((user_tensor, item_tensor), dim=1)\n",
    "\n",
    "        # Get predictions\n",
    "        input_df = pd.DataFrame(input_tensor.numpy(), columns=['user', 'shiur'])\n",
    "        user_item_dl = dls.test_dl(input_df)\n",
    "        preds, _ = learn.get_preds(dl=user_item_dl)\n",
    "        # preds = preds.numpy().flatten()\n",
    "\n",
    "        # Get top N recommendations with their scores\n",
    "        #top_indices = preds.argsort()[::-1][:top_n]\n",
    "        top_indices = torch.argsort(preds, descending=True)[:top_n]\n",
    "        top_item_ids = [item_ids[idx.item()] for idx in top_indices]\n",
    "        top_scores = preds[top_indices].tolist()\n",
    "\n",
    "        recommendations = {item_id: score for item_id, score in zip(top_item_ids, top_scores)}\n",
    "        return recommendations\n",
    "\n",
    "    def get_best_shiurim(self, shiur_num:int = 10): #based on highest bias\n",
    "        shiur_bias = learn.model.i_bias.weight.squeeze()\n",
    "        idxs = shiur_bias.argsort(descending=True)[:shiur_num]\n",
    "        return [dls.classes['shiur'][i] for i in idxs]\n",
    "    \n",
    "    # def get_user_bias(self, user_id:str = None):\n",
    "    #     user_biases = learn.model.u_bias.weight\n",
    "    #     user_idx = learn.dls.classes['usbUserKey'].o2i[user_id]\n",
    "    #     return user_biases[user_idx]\n",
    "    \n",
    "    # def get_shiur_bias(self, shiur_id:str = None):\n",
    "    #     item_biases = learn.model.i_bias.weight\n",
    "    #     item_idx = learn.dls.classes['usbUserKey'].o2i[shiur_id]\n",
    "    #     return item_biases[item_idx]"
   ]
  },
  {
   "cell_type": "markdown",
   "metadata": {},
   "source": [
    "Test model"
   ]
  },
  {
   "cell_type": "code",
   "execution_count": 188,
   "metadata": {},
   "outputs": [
    {
     "data": {
      "text/html": [
       "\n",
       "<style>\n",
       "    /* Turns off some styling */\n",
       "    progress {\n",
       "        /* gets rid of default border in Firefox and Opera. */\n",
       "        border: none;\n",
       "        /* Needs to be in here for Safari polyfill so background images work as expected. */\n",
       "        background-size: auto;\n",
       "    }\n",
       "    progress:not([value]), progress:not([value])::-webkit-progress-bar {\n",
       "        background: repeating-linear-gradient(45deg, #7e7e7e, #7e7e7e 10px, #5c5c5c 10px, #5c5c5c 20px);\n",
       "    }\n",
       "    .progress-bar-interrupted, .progress-bar-interrupted::-webkit-progress-bar {\n",
       "        background: #F44336;\n",
       "    }\n",
       "</style>\n"
      ],
      "text/plain": [
       "<IPython.core.display.HTML object>"
      ]
     },
     "metadata": {},
     "output_type": "display_data"
    },
    {
     "data": {
      "text/html": [],
      "text/plain": [
       "<IPython.core.display.HTML object>"
      ]
     },
     "metadata": {},
     "output_type": "display_data"
    },
    {
     "name": "stdout",
     "output_type": "stream",
     "text": [
      "[1000055, 1000055, 1000055, 1000055, 1000055, 1000055, 1000055, 1000055, 1000055, 1000055]\n"
     ]
    },
    {
     "data": {
      "text/html": [
       "\n",
       "<style>\n",
       "    /* Turns off some styling */\n",
       "    progress {\n",
       "        /* gets rid of default border in Firefox and Opera. */\n",
       "        border: none;\n",
       "        /* Needs to be in here for Safari polyfill so background images work as expected. */\n",
       "        background-size: auto;\n",
       "    }\n",
       "    progress:not([value]), progress:not([value])::-webkit-progress-bar {\n",
       "        background: repeating-linear-gradient(45deg, #7e7e7e, #7e7e7e 10px, #5c5c5c 10px, #5c5c5c 20px);\n",
       "    }\n",
       "    .progress-bar-interrupted, .progress-bar-interrupted::-webkit-progress-bar {\n",
       "        background: #F44336;\n",
       "    }\n",
       "</style>\n"
      ],
      "text/plain": [
       "<IPython.core.display.HTML object>"
      ]
     },
     "metadata": {},
     "output_type": "display_data"
    },
    {
     "data": {
      "text/html": [],
      "text/plain": [
       "<IPython.core.display.HTML object>"
      ]
     },
     "metadata": {},
     "output_type": "display_data"
    },
    {
     "name": "stdout",
     "output_type": "stream",
     "text": [
      "{1000055: [[0.999548614025116]]}\n"
     ]
    }
   ],
   "source": [
    "testmodel = UserCollabFilteringV2()\n",
    "#print(testmodel.get_best_shiurim())\n",
    "print(testmodel.get_recommendations(\"24457\"))\n",
    "print(testmodel.get_weighted_recommendations(\"1083\", top_n=10000))"
   ]
  }
 ],
 "metadata": {
  "kernelspec": {
   "display_name": ".venv",
   "language": "python",
   "name": "python3"
  },
  "language_info": {
   "codemirror_mode": {
    "name": "ipython",
    "version": 3
   },
   "file_extension": ".py",
   "mimetype": "text/x-python",
   "name": "python",
   "nbconvert_exporter": "python",
   "pygments_lexer": "ipython3",
   "version": "3.10.12"
  }
 },
 "nbformat": 4,
 "nbformat_minor": 2
}
