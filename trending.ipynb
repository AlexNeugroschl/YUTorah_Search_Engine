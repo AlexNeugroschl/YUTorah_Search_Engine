{
 "cells": [
  {
   "cell_type": "markdown",
   "metadata": {},
   "source": [
    "### Getting Date Time Objects"
   ]
  },
  {
   "cell_type": "code",
   "execution_count": 2,
   "metadata": {},
   "outputs": [],
   "source": [
    "import pandas as pd\n",
    "from datetime import datetime, timedelta"
   ]
  },
  {
   "cell_type": "code",
   "execution_count": 3,
   "metadata": {},
   "outputs": [],
   "source": [
    "bookmarks_csv = pd.read_csv('../Torah-Navigator/bookmarks_cleaned.csv')\n",
    "categories_csv = pd.read_csv('../Torah-Navigator/categories_cleaned.csv')\n",
    "favorites_csv = pd.read_csv('../Torah-Navigator/favorites_cleaned.csv')\n",
    "shiurim_csv = pd.read_csv('../Torah-Navigator/shiurim_cleaned.csv')\n",
    "shiurim_csv['date'] = pd.to_datetime(shiurim_csv['date'], format='mixed')\n",
    "favorites_csv['date_favorite_added'] = pd.to_datetime(favorites_csv['date_favorite_added'], format='mixed')\n",
    "bookmarks_csv['date_played'] = pd.to_datetime(bookmarks_csv['date_played'], format='mixed')\n",
    "bookmarks_csv['date_downloaded'] = pd.to_datetime(bookmarks_csv['date_downloaded'], format='mixed')\n",
    "bookmarks_csv['queue_date'] = pd.to_datetime(bookmarks_csv['queue_date'], format='mixed')"
   ]
  },
  {
   "cell_type": "code",
   "execution_count": null,
   "metadata": {},
   "outputs": [],
   "source": [
    "bookmarks_csv.dtypes"
   ]
  },
  {
   "cell_type": "code",
   "execution_count": null,
   "metadata": {},
   "outputs": [],
   "source": [
    "df = bookmarks_csv.dropna(subset='date_played')\n",
    "df.head()"
   ]
  },
  {
   "cell_type": "markdown",
   "metadata": {},
   "source": [
    "Check Csvs are loaded"
   ]
  },
  {
   "cell_type": "code",
   "execution_count": null,
   "metadata": {},
   "outputs": [],
   "source": [
    "bookmarks_csv"
   ]
  },
  {
   "cell_type": "code",
   "execution_count": null,
   "metadata": {},
   "outputs": [],
   "source": [
    "def remove_microseconds(date_str):\n",
    "    return date_str.split('.')[0]"
   ]
  },
  {
   "cell_type": "code",
   "execution_count": null,
   "metadata": {},
   "outputs": [],
   "source": [
    "# Drop NaN values and sort by 'date_played'\n",
    "bookmarks_clean = bookmarks_csv.dropna(subset=['date_played']).sort_values(by='date_played', ascending=False)\n",
    "\n",
    "# Apply function to 'date_played' column\n",
    "#bookmarks_clean['date_played'] = bookmarks_clean['date_played'].apply(remove_microseconds)\n",
    "\n",
    "# Convert 'date_played' to datetime\n",
    "#bookmarks_clean['date_played'] = pd.to_datetime(bookmarks_clean['date_played'], format='%Y-%m-%d %H:%M:%S')\n",
    "bookmarks_clean"
   ]
  },
  {
   "cell_type": "code",
   "execution_count": null,
   "metadata": {},
   "outputs": [],
   "source": [
    "most_recent_listen = bookmarks_clean['date_played'].max()\n",
    "most_recent_listen"
   ]
  },
  {
   "cell_type": "code",
   "execution_count": null,
   "metadata": {},
   "outputs": [],
   "source": [
    "one_week_before = most_recent_listen - timedelta(weeks=1)\n",
    "one_week_before"
   ]
  },
  {
   "cell_type": "code",
   "execution_count": null,
   "metadata": {},
   "outputs": [],
   "source": [
    "recent_bookmarks = bookmarks_clean[bookmarks_clean['date_played'] >= one_week_before]\n",
    "recent_bookmarks"
   ]
  },
  {
   "cell_type": "code",
   "execution_count": null,
   "metadata": {},
   "outputs": [],
   "source": [
    "class general_recommendations(BaseModel):\n",
    "    def get_trending(self) -> pd.DataFrame:\n",
    "        "
   ]
  },
  {
   "cell_type": "code",
   "execution_count": null,
   "metadata": {},
   "outputs": [],
   "source": [
    "def __get_most_recent_shiurim(bookmarks_df: pd.DataFrame, recent = 7):\n",
    "    "
   ]
  },
  {
   "cell_type": "code",
   "execution_count": null,
   "metadata": {},
   "outputs": [],
   "source": [
    "print(bookmarks_csv.isna().all())"
   ]
  },
  {
   "cell_type": "code",
   "execution_count": null,
   "metadata": {},
   "outputs": [],
   "source": [
    "print(type(favorites_csv['date_favorite_added'].max()))\n",
    "print(type(shiurim_csv['date'].values[0]))\n",
    "print(type(bookmarks_csv['date_played'].values[0]))\n",
    "print(type(bookmarks_csv['queue_date'].values[0]))\n",
    "print(type(bookmarks_csv['date_downloaded'].values[0]))"
   ]
  },
  {
   "cell_type": "code",
   "execution_count": null,
   "metadata": {},
   "outputs": [],
   "source": [
    "shiurim_csv.dtypes"
   ]
  },
  {
   "cell_type": "code",
   "execution_count": null,
   "metadata": {},
   "outputs": [],
   "source": [
    "# Get the data types of each element in the column\n",
    "data_types = shiurim_csv['date'].apply(type)\n",
    "\n",
    "# Check unique data types\n",
    "unique_data_types = data_types.unique()\n",
    "\n",
    "print(\"Data types present in 'column1':\")\n",
    "for dtype in unique_data_types:\n",
    "    print(dtype)\n"
   ]
  },
  {
   "cell_type": "code",
   "execution_count": null,
   "metadata": {},
   "outputs": [],
   "source": [
    "def __remove_microseconds(date_str: str):\n",
    "        return date_str.split('.')[0]\n",
    "    \n",
    "def __convert_to_datetime(column: pd.Series):\n",
    "    column = column.apply(__remove_microseconds)  # Apply __remove_microseconds first\n",
    "    column = pd.to_datetime(column, format='%Y-%m-%d %H:%M:%S')  # Convert to datetime\n",
    "    return column"
   ]
  },
  {
   "cell_type": "code",
   "execution_count": null,
   "metadata": {},
   "outputs": [],
   "source": [
    "favorites_csv['date_favorite_added'] = __convert_to_datetime(favorites_csv['date_favorite_added'])\n",
    "favorites_csv"
   ]
  },
  {
   "cell_type": "code",
   "execution_count": null,
   "metadata": {},
   "outputs": [],
   "source": [
    "print(type(favorites_csv['date_favorite_added'].max()))"
   ]
  },
  {
   "cell_type": "code",
   "execution_count": null,
   "metadata": {},
   "outputs": [],
   "source": [
    "favorites_csv['date_favorite_added'] = pd.to_datetime(\n",
    "    favorites_csv['date_favorite_added'], format='mixed').dt.floor('s')"
   ]
  },
  {
   "cell_type": "code",
   "execution_count": null,
   "metadata": {},
   "outputs": [],
   "source": [
    "print(type(shiurim_csv['date'].max()))"
   ]
  },
  {
   "cell_type": "code",
   "execution_count": null,
   "metadata": {},
   "outputs": [],
   "source": [
    "shiurim_csv['date'] = pd.to_datetime(shiurim_csv['date'], format='mixed').dt.floor('S')"
   ]
  },
  {
   "cell_type": "code",
   "execution_count": null,
   "metadata": {},
   "outputs": [],
   "source": [
    "print(type(shiurim_csv['date'].max()))"
   ]
  },
  {
   "cell_type": "code",
   "execution_count": null,
   "metadata": {},
   "outputs": [],
   "source": [
    "print(type(bookmarks_csv['queue_date'].max()))"
   ]
  },
  {
   "cell_type": "code",
   "execution_count": null,
   "metadata": {},
   "outputs": [],
   "source": [
    "bookmarks_csv = bookmarks_csv.dropna(subset=['queue_date'])"
   ]
  },
  {
   "cell_type": "code",
   "execution_count": null,
   "metadata": {},
   "outputs": [],
   "source": [
    "import sys\n",
    "import os\n",
    "\n",
    "# Determine the relative path to the src directory\n",
    "relative_path_to_src = os.path.abspath(os.path.join(os.getcwd(), '../Torah-Navigator'))\n",
    "\n",
    "# Add the src directory to the system path\n",
    "if relative_path_to_src not in sys.path:\n",
    "    sys.path.append(relative_path_to_src)\n",
    "\n",
    "from src.pipeline.data_processor import DataProcessor, CleanedData\n",
    "\n",
    "dp = DataProcessor()\n",
    "\n",
    "df = dp.load_table(CleanedData.SHIURIM) # Other options: CleanedData.BOOKMARKS, CleanedData.FAVORITES, CleanedData.CATEGORIES"
   ]
  },
  {
   "cell_type": "code",
   "execution_count": null,
   "metadata": {},
   "outputs": [],
   "source": [
    "print(type(df['date'].iloc[1000]))"
   ]
  },
  {
   "cell_type": "code",
   "execution_count": null,
   "metadata": {},
   "outputs": [],
   "source": [
    "dp.load_limit_table(CleanedData.CATEGORIES, 100).dtypes"
   ]
  },
  {
   "cell_type": "markdown",
   "metadata": {},
   "source": [
    "### Requirements For Converting Dates With YUTorah data\n",
    "\n",
    "- .astype('datetime64[ns]') \n",
    "- parse_dates=['date_column_name']\n",
    "    - This is needed for csv files, untested if needed for loading from database\n",
    "- errors='coerce'\n",
    "- not working within same column"
   ]
  },
  {
   "cell_type": "code",
   "execution_count": null,
   "metadata": {},
   "outputs": [],
   "source": [
    "def __get_date_columns(table_name: str) -> list:\n",
    "        if table_name == \"shiurim_cleaned\":\n",
    "            return ['date']\n",
    "        elif table_name == 'bookmarks_cleaned':\n",
    "            parse_dates = ['date_played', 'date_downloaded', 'queue_date']\n",
    "        elif table_name == 'favorites_cleaned':\n",
    "            parse_dates = ['date_favorite_added']\n",
    "        else:\n",
    "            return []"
   ]
  },
  {
   "cell_type": "code",
   "execution_count": null,
   "metadata": {},
   "outputs": [],
   "source": [
    "print(__get_date_columns(CleanedData.SHIURIM))"
   ]
  },
  {
   "cell_type": "code",
   "execution_count": null,
   "metadata": {},
   "outputs": [],
   "source": [
    "def __extract_table_name(self, query: str) -> str:\n",
    "        # Simple parsing assuming a specific query format: 'SELECT * FROM table_name'\n",
    "        pattern = r'FROM\\s+(\\w+)'\n",
    "        match = re.search(pattern, query, re.IGNORECASE)\n",
    "        if match:\n",
    "            return match.group(1)\n",
    "        else:\n",
    "            return None\n",
    "        \n",
    "        ### Method for finding table names in query"
   ]
  },
  {
   "cell_type": "markdown",
   "metadata": {},
   "source": [
    "### Getting Trending Shiurim"
   ]
  },
  {
   "cell_type": "code",
   "execution_count": null,
   "metadata": {},
   "outputs": [],
   "source": [
    "from datetime import date\n",
    "\n",
    "print(date.today())"
   ]
  },
  {
   "cell_type": "code",
   "execution_count": null,
   "metadata": {},
   "outputs": [],
   "source": [
    "def get_recent_interactions(bookmarks : pd.DataFrame, past: int = 7):\n",
    "    table = bookmarks\n",
    "    today = pd.to_datetime(date.today())\n",
    "    delta = today - timedelta(days=past)\n",
    "    table = table[(table['date_played'] > delta) | (table['date_downloaded'] > delta) | (table['queue_date'] > delta)]\n",
    "    return table"
   ]
  },
  {
   "cell_type": "code",
   "execution_count": null,
   "metadata": {},
   "outputs": [],
   "source": [
    "get_recent_interactions(bookmarks_csv, 41)"
   ]
  },
  {
   "cell_type": "code",
   "execution_count": null,
   "metadata": {},
   "outputs": [],
   "source": [
    "def get_top_recent_shiurim(table: pd.DataFrame,shiurim: pd.DataFrame, past: int = 7, category: str = None) -> pd.DataFrame:\n",
    "    # There are only 32 total downloads from cleaned data so no seprate column for downloads\n",
    "    a = pd.DataFrame()\n",
    "    df = get_recent_interactions(table, past)\n",
    "    played = df[df['played'] == 1].groupby('shiur').size().reset_index(name='total_listens')\n",
    "    queued = df.dropna(subset='queue_date').groupby('shiur')\n",
    "    #a['total_listens'] = played['played'].count()\n",
    "    a['total_queues'] = queued['queue_date'].count()\n",
    "\n",
    "    #if category is not None and category in shiurim['category'].values:\n",
    "     #   a = a[a['category'] == category]\n",
    "    \n",
    "    return played.sort_values(by='total_listens', ascending=False)\n"
   ]
  },
  {
   "cell_type": "code",
   "execution_count": null,
   "metadata": {},
   "outputs": [],
   "source": [
    "a = pd.DataFrame()\n",
    "df = get_recent_interactions(bookmarks_csv,151)\n",
    "played = df[df['played'] == 1]\n",
    "grouped = played.groupby('shiur').size()\n",
    "a['total_listens'] = grouped\n",
    "a.sort_values(by='total_listens', ascending=False)"
   ]
  },
  {
   "cell_type": "code",
   "execution_count": null,
   "metadata": {},
   "outputs": [],
   "source": [
    "b = pd.DataFrame()\n",
    "df2 = get_recent_interactions(bookmarks_csv, 48)\n",
    "#df2 = df2[df2['played'] == 1]\n",
    "grouped = df2.groupby('shiur').size()\n",
    "b['total_interactions'] = grouped\n",
    "b.sort_values(by='total_interactions', ascending=False)"
   ]
  },
  {
   "cell_type": "code",
   "execution_count": null,
   "metadata": {},
   "outputs": [],
   "source": [
    "normalize_popularity(get_top_recent_shiurim(bookmarks_csv, 45)).sort_values(by='popularity', ascending=False)"
   ]
  },
  {
   "cell_type": "code",
   "execution_count": null,
   "metadata": {},
   "outputs": [],
   "source": [
    "get_top_recent_shiurim(bookmarks_csv,45).sort_values(by='total_listens', ascending = False)"
   ]
  },
  {
   "cell_type": "code",
   "execution_count": null,
   "metadata": {},
   "outputs": [],
   "source": [
    "normalize_popularity(get_top_recent_shiurim(bookmarks_csv, 75)).sort_values(by='total_listens', ascending=False)"
   ]
  },
  {
   "cell_type": "code",
   "execution_count": null,
   "metadata": {},
   "outputs": [],
   "source": [
    "def normalize_popularity(df : pd.DataFrame):\n",
    "    df['normalized_listens'] = (df['total_listens'] - df['total_listens'].min()) / (df['total_listens'].max() - df['total_listens'].min())\n",
    "    #df['normalized_queues'] = (df['total_queues'] - df['total_queues'].min()) / (df['total_queues'].max() - df['total_queues'].min())\n",
    "\n",
    "    weight_listens = 0.7\n",
    "    weight_queues = 0.3\n",
    "\n",
    "    #df['popularity'] = (weight_listens * df['normalized_listens']) + (weight_queues * df['normalized_queues'])\n",
    "\n",
    "    #df.drop(columns=['normalized_listens', 'normalized_queues'], inplace=True)\n",
    "\n",
    "    return df"
   ]
  },
  {
   "cell_type": "code",
   "execution_count": null,
   "metadata": {},
   "outputs": [],
   "source": [
    "def __get_shiur_listens(shiurim: pd.DataFrame, bookmarks: pd.DataFrame) -> pd.DataFrame:\n",
    "    filtered = bookmarks[bookmarks['played'] == 1]\n",
    "    listens_df = filtered.groupby('shiur').size().reset_index(name='listens')\n",
    "    merged_df = pd.merge(shiurim, listens_df, on='shiur', how='left')\n",
    "    merged_df['listens'] = merged_df['listens'].fillna(0).astype(int)  # Fill NaNs with 0 and convert to int\n",
    "    return merged_df"
   ]
  },
  {
   "cell_type": "code",
   "execution_count": null,
   "metadata": {},
   "outputs": [],
   "source": [
    "__get_shiur_listens(shiurim_csv,bookmarks_csv).sort_values(by='listens', ascending=False)"
   ]
  },
  {
   "cell_type": "markdown",
   "metadata": {},
   "source": [
    "### Testing"
   ]
  },
  {
   "cell_type": "code",
   "execution_count": null,
   "metadata": {},
   "outputs": [],
   "source": [
    "from datetime import date, timedelta"
   ]
  },
  {
   "cell_type": "code",
   "execution_count": null,
   "metadata": {},
   "outputs": [],
   "source": [
    "def __get_recent_interactions(bookmarks : pd.DataFrame, past: int = 7) -> pd.DataFrame:\n",
    "        interactions = bookmarks\n",
    "        today = pd.to_datetime(date.today())\n",
    "        delta = today - timedelta(days=past)\n",
    "        interactions = interactions[(interactions['date_played'] > delta) |\n",
    "                                    (interactions['date_downloaded'] > delta) | \n",
    "                                    (interactions['queue_date'] > delta)\n",
    "                                    ]\n",
    "        return interactions"
   ]
  },
  {
   "cell_type": "code",
   "execution_count": null,
   "metadata": {},
   "outputs": [],
   "source": [
    "def __get_top_recent_shiurim(bookmarks: pd.DataFrame, past: int = 7) -> pd.DataFrame:\n",
    "        shiurim = pd.DataFrame()\n",
    "        interactions = __get_recent_interactions(bookmarks, past)\n",
    "\n",
    "        played = interactions[interactions['played'] == 1].groupby('shiur')\n",
    "        queued = interactions.dropna(subset='queue_date').groupby('shiur')\n",
    "\n",
    "        shiurim['total_listens'] = played['played'].count()\n",
    "        shiurim['total_queues'] = queued['queue_date'].count()\n",
    "        shiurim = shiurim.fillna(0)\n",
    "        shiurim['total_interactions'] = shiurim['total_listens'] + shiurim['total_queues']\n",
    "    \n",
    "        return shiurim.sort_values(by='total_interactions', ascending=False)"
   ]
  },
  {
   "cell_type": "code",
   "execution_count": null,
   "metadata": {},
   "outputs": [],
   "source": [
    "def __get_popularity(shiurim : pd.DataFrame) -> pd.DataFrame:\n",
    "        shiurim['normalized_listens'] = (\n",
    "            (shiurim['total_listens'] - shiurim['total_listens'].min()) / \n",
    "            (shiurim['total_listens'].max() - shiurim['total_listens'].min())\n",
    "        )\n",
    "        shiurim['normalized_queues'] = (\n",
    "            (shiurim['total_queues'] - shiurim['total_queues'].min()) / \n",
    "            (shiurim['total_queues'].max() - shiurim['total_queues'].min())\n",
    "        )\n",
    "\n",
    "        weight_listens = 0.7\n",
    "        weight_queues = 0.3\n",
    "\n",
    "        shiurim['popularity'] = (\n",
    "            (weight_listens * shiurim['normalized_listens']) + \n",
    "            (weight_queues * shiurim['normalized_queues'])\n",
    "        )\n",
    "\n",
    "        shiurim.drop(columns=['normalized_listens', 'normalized_queues'], inplace=True)\n",
    "\n",
    "        return shiurim.sort_values(by='popularity', ascending=False)"
   ]
  },
  {
   "cell_type": "code",
   "execution_count": null,
   "metadata": {},
   "outputs": [],
   "source": [
    "__get_recent_interactions(bookmarks_csv, 48)"
   ]
  },
  {
   "cell_type": "code",
   "execution_count": null,
   "metadata": {},
   "outputs": [],
   "source": [
    "__get_top_recent_shiurim(bookmarks_csv, 55)"
   ]
  },
  {
   "cell_type": "code",
   "execution_count": null,
   "metadata": {},
   "outputs": [],
   "source": [
    "df = __get_popularity(__get_top_recent_shiurim(bookmarks_csv, 55))\n",
    "df"
   ]
  },
  {
   "cell_type": "code",
   "execution_count": null,
   "metadata": {},
   "outputs": [],
   "source": [
    "print(df.index[:5].tolist())"
   ]
  },
  {
   "cell_type": "code",
   "execution_count": null,
   "metadata": {},
   "outputs": [],
   "source": [
    "list(zip(df.index[:5], df['popularity'][:5]))"
   ]
  },
  {
   "cell_type": "markdown",
   "metadata": {},
   "source": [
    "### Categories"
   ]
  },
  {
   "cell_type": "code",
   "execution_count": null,
   "metadata": {},
   "outputs": [],
   "source": [
    "shiurim = shiurim_csv[['shiur','title','teacher_title','last_name','first_name','duration','category','middle_category','subcategory','series_name']]\n",
    "df2 = pd.merge(df,shiurim, on='shiur')\n",
    "df2\n"
   ]
  },
  {
   "cell_type": "code",
   "execution_count": null,
   "metadata": {},
   "outputs": [],
   "source": [
    "df2['name'] = df2['teacher_title'] + ' ' + df2['first_name'] + ' ' + df2['last_name']\n",
    "df2.drop(columns=['teacher_title', 'first_name','last_name'], inplace=True)\n",
    "df2"
   ]
  },
  {
   "cell_type": "markdown",
   "metadata": {},
   "source": [
    "### FILTER"
   ]
  },
  {
   "cell_type": "code",
   "execution_count": null,
   "metadata": {},
   "outputs": [],
   "source": [
    "df2 = df2[df2['duration'] < 1000]\n",
    "df2"
   ]
  },
  {
   "cell_type": "code",
   "execution_count": null,
   "metadata": {},
   "outputs": [],
   "source": [
    "shiurim_csv\n",
    "shiurim_csv['name'] = shiurim_csv['teacher_title'] + ' ' + shiurim_csv['first_name'] + ' ' + shiurim_csv['last_name']\n",
    "shiurim_csv"
   ]
  },
  {
   "cell_type": "code",
   "execution_count": null,
   "metadata": {},
   "outputs": [],
   "source": [
    "def __merge_shiurim(shiurim : pd.DataFrame, popularity : pd.DataFrame) -> pd.DataFrame:\n",
    "    shiurim['name'] = shiurim['teacher_title'] + ' ' + shiurim['first_name'] + ' ' + shiurim['last_name']\n",
    "    shiurim.drop(columns=['teacher_title', 'first_name','last_name'], inplace=True)\n",
    "    shiurim = shiurim[['shiur','title','name','duration','category','middle_category','subcategory','series_name']]\n",
    "    merged = pd.merge(popularity, shiurim, on='shiur')\n",
    "    return merged"
   ]
  },
  {
   "cell_type": "code",
   "execution_count": null,
   "metadata": {},
   "outputs": [],
   "source": [
    "m = __merge_shiurim(shiurim_csv, __get_popularity(__get_top_recent_shiurim(bookmarks_csv, 55)))\n",
    "m"
   ]
  },
  {
   "cell_type": "code",
   "execution_count": null,
   "metadata": {},
   "outputs": [],
   "source": [
    "m"
   ]
  },
  {
   "cell_type": "code",
   "execution_count": null,
   "metadata": {},
   "outputs": [],
   "source": [
    "def __get_filtered(merged_df : pd.DataFrame, **kwargs) -> pd.DataFrame:\n",
    "    filtered_df = merged_df.copy()\n",
    "    for key, value in kwargs.items():\n",
    "        filtered_df = filtered_df[filtered_df[key] == value]\n",
    "    return filtered_df"
   ]
  },
  {
   "cell_type": "code",
   "execution_count": null,
   "metadata": {},
   "outputs": [],
   "source": [
    "__get_filtered(m, category='Parsha')"
   ]
  },
  {
   "cell_type": "markdown",
   "metadata": {},
   "source": [
    "### Real Testing"
   ]
  },
  {
   "cell_type": "code",
   "execution_count": null,
   "metadata": {},
   "outputs": [],
   "source": [
    "from typing import Dict, List\n",
    "from .base import BaseModel\n",
    "import pandas as pd\n",
    "from datetime import date, timedelta\n",
    "from src.pipeline.data_processor import DataProcessor, CleanedData\n",
    "\n",
    "\n",
    "class Trending(BaseModel):\n",
    "    def __init__(self):\n",
    "        super().__init__()\n",
    "        dp = DataProcessor()\n",
    "        self.bookmarks = dp.load_table(CleanedData.BOOKMARKS)\n",
    "        self.shiurim = dp.load_table(CleanedData.SHIURIM)\n",
    "        self.merged = self.__merge_shiurim(self.shiurim,self.bookmarks)\n",
    "\n",
    "    def get_recommendations(self, user_id: str = None, top_n: int = 5, past: int = 7, filter: str = None, *args, **kwargs) -> List[int]:\n",
    "        for key,value in kwargs.items():\n",
    "            if key in self.shiurim.columns:\n",
    "                trending_filtered =  self.__get_filtered(key=value)\n",
    "                return self.__get_popularity(trending_filtered,past).index[:top_n].tolist()\n",
    "        trending_shiurim = self.__get_popularity(\n",
    "            self.__get_top_recent_shiurim(self.bookmarks, past))\n",
    "        return trending_shiurim.index[:top_n].tolist()\n",
    "\n",
    "    def get_weighted_recommendations(self, user_id: str = None, top_n: int = 5, past: int = 7, *args, **kwargs) -> Dict[int, float]:\n",
    "        trending_shiurim = self.__get_popularity(\n",
    "            self.__get_top_recent_shiurim(self.bookmarks, past))\n",
    "        return dict(zip(trending_shiurim.index[:top_n], trending_shiurim['popularity'][:top_n]))\n",
    "\n",
    "    def __get_recent_interactions(self, bookmarks: pd.DataFrame, past: int = 7) -> pd.DataFrame:\n",
    "        interactions = bookmarks\n",
    "        today = pd.to_datetime(date.today())\n",
    "        delta = today - timedelta(days=past)\n",
    "        interactions = interactions[(interactions['date_played'] > delta) |\n",
    "                                    (interactions['date_downloaded'] > delta) |\n",
    "                                    (interactions['queue_date'] > delta)\n",
    "                                    ]\n",
    "        return interactions\n",
    "\n",
    "    def __get_top_recent_shiurim(self, bookmarks: pd.DataFrame, past: int = 7) -> pd.DataFrame:\n",
    "        shiurim = pd.DataFrame()\n",
    "        interactions = self.__get_recent_interactions(bookmarks, past)\n",
    "\n",
    "        played = interactions[interactions['played'] == 1].groupby('shiur')\n",
    "        queued = interactions.dropna(subset='queue_date').groupby('shiur')\n",
    "\n",
    "        shiurim['total_listens'] = played['played'].count()\n",
    "        shiurim['total_queues'] = queued['queue_date'].count()\n",
    "        shiurim = shiurim.fillna(0)\n",
    "        shiurim['total_interactions'] = shiurim['total_listens'] + \\\n",
    "            shiurim['total_queues']\n",
    "\n",
    "        return shiurim.sort_values(by='total_interactions', ascending=False)\n",
    "\n",
    "    def __get_popularity(self, shiurim: pd.DataFrame) -> pd.DataFrame:\n",
    "        shiurim['normalized_listens'] = (\n",
    "            (shiurim['total_listens'] - shiurim['total_listens'].min()) /\n",
    "            (shiurim['total_listens'].max() - shiurim['total_listens'].min())\n",
    "        )\n",
    "        shiurim['normalized_queues'] = (\n",
    "            (shiurim['total_queues'] - shiurim['total_queues'].min()) /\n",
    "            (shiurim['total_queues'].max() - shiurim['total_queues'].min())\n",
    "        )\n",
    "\n",
    "        weight_listens = 0.7\n",
    "        weight_queues = 0.3\n",
    "\n",
    "        shiurim['popularity'] = (\n",
    "            (weight_listens * shiurim['normalized_listens']) +\n",
    "            (weight_queues * shiurim['normalized_queues'])\n",
    "        )\n",
    "\n",
    "        shiurim.drop(columns=['normalized_listens',\n",
    "                     'normalized_queues'], inplace=True)\n",
    "\n",
    "        return shiurim.sort_values(by='popularity', ascending=False)\n",
    "\n",
    "    def __merge_shiurim(self, shiurim: pd.DataFrame, bookmarks: pd.DataFrame) -> pd.DataFrame:\n",
    "        shiurim['name'] = shiurim['teacher_title'] + ' ' + \\\n",
    "            shiurim['first_name'] + ' ' + shiurim['last_name']\n",
    "        shiurim.drop(columns=['teacher_title',\n",
    "                     'first_name', 'last_name'], inplace=True)\n",
    "        shiurim = shiurim[['shiur', 'title', 'name', 'duration',\n",
    "                           'category', 'middle_category', 'subcategory', 'series_name']]\n",
    "        merged = pd.merge(bookmarks, shiurim, on='shiur')\n",
    "        return merged\n",
    "\n",
    "    def __get_filtered(self, **kwargs) -> pd.DataFrame:\n",
    "        trending_shiurim = self.__get_top_recent_shiurim(self.merged)\n",
    "        for key, value in kwargs.items():\n",
    "            trending_shiurim = trending_shiurim[trending_shiurim[key] == value]\n",
    "        return trending_shiurim\n"
   ]
  },
  {
   "cell_type": "code",
   "execution_count": 4,
   "metadata": {},
   "outputs": [],
   "source": [
    "shiurim = shiurim_csv.copy().sort_values(by='shiur')\n",
    "bookmarks = bookmarks_csv.copy().sort_values(by='shiur')"
   ]
  },
  {
   "cell_type": "code",
   "execution_count": 5,
   "metadata": {},
   "outputs": [],
   "source": [
    "shiurim['name'] = shiurim['teacher_title'] + ' ' + \\\n",
    "            shiurim['first_name'] + ' ' + shiurim['last_name']\n",
    "shiurim.drop(columns=['teacher_title',\n",
    "                     'first_name', 'last_name'], inplace=True)\n",
    "shiurim = shiurim[['shiur', 'title', 'name',\n",
    "                           'category', 'middle_category', 'subcategory', 'series_name','full_details']]\n",
    "merged = pd.merge(bookmarks, shiurim, on='shiur',how='left')"
   ]
  },
  {
   "cell_type": "code",
   "execution_count": null,
   "metadata": {},
   "outputs": [],
   "source": [
    "sf = shiurim.dropna(subset=['shiur','title'])\n",
    "sf"
   ]
  },
  {
   "cell_type": "code",
   "execution_count": null,
   "metadata": {},
   "outputs": [],
   "source": [
    "bookmarks.dropna(subset='shiur')"
   ]
  },
  {
   "cell_type": "code",
   "execution_count": null,
   "metadata": {},
   "outputs": [],
   "source": [
    "df = merged.dropna(subset=['shiur','title'])\n",
    "df"
   ]
  },
  {
   "cell_type": "code",
   "execution_count": 10,
   "metadata": {},
   "outputs": [
    {
     "data": {
      "text/html": [
       "<div>\n",
       "<style scoped>\n",
       "    .dataframe tbody tr th:only-of-type {\n",
       "        vertical-align: middle;\n",
       "    }\n",
       "\n",
       "    .dataframe tbody tr th {\n",
       "        vertical-align: top;\n",
       "    }\n",
       "\n",
       "    .dataframe thead th {\n",
       "        text-align: right;\n",
       "    }\n",
       "</style>\n",
       "<table border=\"1\" class=\"dataframe\">\n",
       "  <thead>\n",
       "    <tr style=\"text-align: right;\">\n",
       "      <th></th>\n",
       "      <th>Unnamed: 0</th>\n",
       "      <th>user</th>\n",
       "      <th>shiur</th>\n",
       "      <th>session</th>\n",
       "      <th>bookmark</th>\n",
       "      <th>timestamp</th>\n",
       "      <th>queue_date</th>\n",
       "      <th>played</th>\n",
       "      <th>date_played</th>\n",
       "      <th>downloaded</th>\n",
       "      <th>date_downloaded</th>\n",
       "      <th>duration</th>\n",
       "      <th>listen_percentage</th>\n",
       "      <th>title</th>\n",
       "      <th>name</th>\n",
       "      <th>category</th>\n",
       "      <th>middle_category</th>\n",
       "      <th>subcategory</th>\n",
       "      <th>series_name</th>\n",
       "      <th>full_details</th>\n",
       "    </tr>\n",
       "  </thead>\n",
       "  <tbody>\n",
       "    <tr>\n",
       "      <th>0</th>\n",
       "      <td>3227</td>\n",
       "      <td>14160</td>\n",
       "      <td>703702</td>\n",
       "      <td>YUTORAH_NEWSESSIONAPP_38840678_55842142</td>\n",
       "      <td>lastPlayed</td>\n",
       "      <td>31.6</td>\n",
       "      <td>NaT</td>\n",
       "      <td>0</td>\n",
       "      <td>NaT</td>\n",
       "      <td>0</td>\n",
       "      <td>NaT</td>\n",
       "      <td>4731.0</td>\n",
       "      <td>0.007</td>\n",
       "      <td>hilchos nidda</td>\n",
       "      <td>Rabbi Shalom Rosner</td>\n",
       "      <td>Gemara</td>\n",
       "      <td>General</td>\n",
       "      <td>General</td>\n",
       "      <td>NaN</td>\n",
       "      <td>Title hilchos nidda Speaker Rosner Category Ge...</td>\n",
       "    </tr>\n",
       "    <tr>\n",
       "      <th>1</th>\n",
       "      <td>3226</td>\n",
       "      <td>28139</td>\n",
       "      <td>703751</td>\n",
       "      <td>YUTORAH_NEWSESSIONAPP_45593954_74468168</td>\n",
       "      <td>lastPlayed</td>\n",
       "      <td>98.5</td>\n",
       "      <td>NaT</td>\n",
       "      <td>0</td>\n",
       "      <td>NaT</td>\n",
       "      <td>0</td>\n",
       "      <td>NaT</td>\n",
       "      <td>1299.0</td>\n",
       "      <td>0.076</td>\n",
       "      <td>Hesped for Rabbi Israel Miller</td>\n",
       "      <td>Rabbi Dovid Miller</td>\n",
       "      <td>Personalities</td>\n",
       "      <td>General</td>\n",
       "      <td>General</td>\n",
       "      <td>NaN</td>\n",
       "      <td>Title Hesped for Rabbi Israel Miller Speaker M...</td>\n",
       "    </tr>\n",
       "    <tr>\n",
       "      <th>2</th>\n",
       "      <td>3225</td>\n",
       "      <td>7066</td>\n",
       "      <td>703884</td>\n",
       "      <td>YUTORAH_NEWSESSIONAPP_42294627_55600362</td>\n",
       "      <td>lastPlayed</td>\n",
       "      <td>39.7</td>\n",
       "      <td>NaT</td>\n",
       "      <td>0</td>\n",
       "      <td>NaT</td>\n",
       "      <td>0</td>\n",
       "      <td>NaT</td>\n",
       "      <td>4353.0</td>\n",
       "      <td>0.009</td>\n",
       "      <td>Ketuvot 13</td>\n",
       "      <td>Rabbi Yonason Sacks</td>\n",
       "      <td>Gemara</td>\n",
       "      <td>Nashim</td>\n",
       "      <td>Ketuvot</td>\n",
       "      <td>Daily Shiur</td>\n",
       "      <td>Title Ketuvot 13 Speaker Sacks Category Gemara</td>\n",
       "    </tr>\n",
       "    <tr>\n",
       "      <th>3</th>\n",
       "      <td>3224</td>\n",
       "      <td>7066</td>\n",
       "      <td>703890</td>\n",
       "      <td>YUTORAH_NEWSESSIONAPP_42294627_55600362</td>\n",
       "      <td>lastPlayed</td>\n",
       "      <td>47.3</td>\n",
       "      <td>NaT</td>\n",
       "      <td>0</td>\n",
       "      <td>NaT</td>\n",
       "      <td>0</td>\n",
       "      <td>NaT</td>\n",
       "      <td>3549.0</td>\n",
       "      <td>0.013</td>\n",
       "      <td>Ketuvot 14</td>\n",
       "      <td>Rabbi Yonason Sacks</td>\n",
       "      <td>Gemara</td>\n",
       "      <td>Nashim</td>\n",
       "      <td>Ketuvot</td>\n",
       "      <td>Daily Shiur</td>\n",
       "      <td>Title Ketuvot 14 Speaker Sacks Category Gemara</td>\n",
       "    </tr>\n",
       "    <tr>\n",
       "      <th>4</th>\n",
       "      <td>3223</td>\n",
       "      <td>7066</td>\n",
       "      <td>703891</td>\n",
       "      <td>YUTORAH_NEWSESSIONAPP_42294627_55600362</td>\n",
       "      <td>lastPlayed</td>\n",
       "      <td>167.6</td>\n",
       "      <td>NaT</td>\n",
       "      <td>0</td>\n",
       "      <td>NaT</td>\n",
       "      <td>0</td>\n",
       "      <td>NaT</td>\n",
       "      <td>4177.0</td>\n",
       "      <td>0.040</td>\n",
       "      <td>Ketuvot 15</td>\n",
       "      <td>Rabbi Yonason Sacks</td>\n",
       "      <td>Gemara</td>\n",
       "      <td>Nashim</td>\n",
       "      <td>Ketuvot</td>\n",
       "      <td>Daily Shiur</td>\n",
       "      <td>Title Ketuvot 15 Speaker Sacks Category Gemara</td>\n",
       "    </tr>\n",
       "    <tr>\n",
       "      <th>...</th>\n",
       "      <td>...</td>\n",
       "      <td>...</td>\n",
       "      <td>...</td>\n",
       "      <td>...</td>\n",
       "      <td>...</td>\n",
       "      <td>...</td>\n",
       "      <td>...</td>\n",
       "      <td>...</td>\n",
       "      <td>...</td>\n",
       "      <td>...</td>\n",
       "      <td>...</td>\n",
       "      <td>...</td>\n",
       "      <td>...</td>\n",
       "      <td>...</td>\n",
       "      <td>...</td>\n",
       "      <td>...</td>\n",
       "      <td>...</td>\n",
       "      <td>...</td>\n",
       "      <td>...</td>\n",
       "      <td>...</td>\n",
       "    </tr>\n",
       "    <tr>\n",
       "      <th>804</th>\n",
       "      <td>2423</td>\n",
       "      <td>5515</td>\n",
       "      <td>749198</td>\n",
       "      <td>YUTORAH_NEWSESSIONAPP_35297109_62401042</td>\n",
       "      <td>lastPlayed</td>\n",
       "      <td>742.6</td>\n",
       "      <td>NaT</td>\n",
       "      <td>0</td>\n",
       "      <td>NaT</td>\n",
       "      <td>0</td>\n",
       "      <td>NaT</td>\n",
       "      <td>7343.0</td>\n",
       "      <td>0.101</td>\n",
       "      <td>Parshas Kedoshim</td>\n",
       "      <td>Rabbi Joseph B Soloveitchik</td>\n",
       "      <td>Parsha</td>\n",
       "      <td>Vayikra</td>\n",
       "      <td>Kedoshim</td>\n",
       "      <td>NaN</td>\n",
       "      <td>Title Parshas Kedoshim Speaker Soloveitchik Ca...</td>\n",
       "    </tr>\n",
       "    <tr>\n",
       "      <th>805</th>\n",
       "      <td>2422</td>\n",
       "      <td>26916</td>\n",
       "      <td>749252</td>\n",
       "      <td>YUTORAH_NEWSESSIONAPP_43024027_53342571</td>\n",
       "      <td>lastPlayed</td>\n",
       "      <td>1320.5</td>\n",
       "      <td>NaT</td>\n",
       "      <td>0</td>\n",
       "      <td>NaT</td>\n",
       "      <td>0</td>\n",
       "      <td>NaT</td>\n",
       "      <td>2245.0</td>\n",
       "      <td>0.588</td>\n",
       "      <td>Yom Kippur Succos and Simchat Torah for Children</td>\n",
       "      <td>Rebbetzin Tziporah Heller</td>\n",
       "      <td>Machshava</td>\n",
       "      <td>Holidays</td>\n",
       "      <td>Elul</td>\n",
       "      <td>Naaleh</td>\n",
       "      <td>Title Yom Kippur Succos and Simchat Torah for ...</td>\n",
       "    </tr>\n",
       "    <tr>\n",
       "      <th>806</th>\n",
       "      <td>2421</td>\n",
       "      <td>10805</td>\n",
       "      <td>749358</td>\n",
       "      <td>YUTORAH_NEWSESSIONAPP_36773449_50674061</td>\n",
       "      <td>lastPlayed</td>\n",
       "      <td>164.5</td>\n",
       "      <td>NaT</td>\n",
       "      <td>0</td>\n",
       "      <td>NaT</td>\n",
       "      <td>0</td>\n",
       "      <td>NaT</td>\n",
       "      <td>777.0</td>\n",
       "      <td>0.212</td>\n",
       "      <td>Ten Minute Halacha  Shnayim Mikra</td>\n",
       "      <td>Rabbi Aryeh Lebowitz</td>\n",
       "      <td>Halacha</td>\n",
       "      <td>Miscellaneous</td>\n",
       "      <td>Torah</td>\n",
       "      <td>Ten Minute Halacha</td>\n",
       "      <td>Title Ten Minute Halacha  Shnayim Mikra Speake...</td>\n",
       "    </tr>\n",
       "    <tr>\n",
       "      <th>807</th>\n",
       "      <td>2420</td>\n",
       "      <td>10805</td>\n",
       "      <td>749408</td>\n",
       "      <td>YUTORAH_NEWSESSIONAPP_36773449_50674061</td>\n",
       "      <td>lastPlayed</td>\n",
       "      <td>163.4</td>\n",
       "      <td>NaT</td>\n",
       "      <td>0</td>\n",
       "      <td>NaT</td>\n",
       "      <td>0</td>\n",
       "      <td>NaT</td>\n",
       "      <td>648.0</td>\n",
       "      <td>0.252</td>\n",
       "      <td>Ten Minute Halacha  Greetings Before Davening</td>\n",
       "      <td>Rabbi Aryeh Lebowitz</td>\n",
       "      <td>Halacha</td>\n",
       "      <td>Orach Chaim</td>\n",
       "      <td>Tefillah</td>\n",
       "      <td>Ten Minute Halacha</td>\n",
       "      <td>Title Ten Minute Halacha  Greetings Before Dav...</td>\n",
       "    </tr>\n",
       "    <tr>\n",
       "      <th>808</th>\n",
       "      <td>2419</td>\n",
       "      <td>986</td>\n",
       "      <td>749412</td>\n",
       "      <td>YUTORAH_NEWSESSIONAPP_36012327_18419287</td>\n",
       "      <td>lastPlayed</td>\n",
       "      <td>119.8</td>\n",
       "      <td>NaT</td>\n",
       "      <td>0</td>\n",
       "      <td>NaT</td>\n",
       "      <td>0</td>\n",
       "      <td>NaT</td>\n",
       "      <td>5274.0</td>\n",
       "      <td>0.023</td>\n",
       "      <td>Sotah Shiur 33</td>\n",
       "      <td>Rabbi Hershel Schachter</td>\n",
       "      <td>Gemara</td>\n",
       "      <td>Nashim</td>\n",
       "      <td>Sotah</td>\n",
       "      <td>Weekly Shiur  YIFH</td>\n",
       "      <td>Title Sotah Shiur 33 Speaker Schachter Categor...</td>\n",
       "    </tr>\n",
       "  </tbody>\n",
       "</table>\n",
       "<p>765 rows × 20 columns</p>\n",
       "</div>"
      ],
      "text/plain": [
       "     Unnamed: 0   user   shiur                                  session  \\\n",
       "0          3227  14160  703702  YUTORAH_NEWSESSIONAPP_38840678_55842142   \n",
       "1          3226  28139  703751  YUTORAH_NEWSESSIONAPP_45593954_74468168   \n",
       "2          3225   7066  703884  YUTORAH_NEWSESSIONAPP_42294627_55600362   \n",
       "3          3224   7066  703890  YUTORAH_NEWSESSIONAPP_42294627_55600362   \n",
       "4          3223   7066  703891  YUTORAH_NEWSESSIONAPP_42294627_55600362   \n",
       "..          ...    ...     ...                                      ...   \n",
       "804        2423   5515  749198  YUTORAH_NEWSESSIONAPP_35297109_62401042   \n",
       "805        2422  26916  749252  YUTORAH_NEWSESSIONAPP_43024027_53342571   \n",
       "806        2421  10805  749358  YUTORAH_NEWSESSIONAPP_36773449_50674061   \n",
       "807        2420  10805  749408  YUTORAH_NEWSESSIONAPP_36773449_50674061   \n",
       "808        2419    986  749412  YUTORAH_NEWSESSIONAPP_36012327_18419287   \n",
       "\n",
       "       bookmark  timestamp queue_date  played date_played  downloaded  \\\n",
       "0    lastPlayed       31.6        NaT       0         NaT           0   \n",
       "1    lastPlayed       98.5        NaT       0         NaT           0   \n",
       "2    lastPlayed       39.7        NaT       0         NaT           0   \n",
       "3    lastPlayed       47.3        NaT       0         NaT           0   \n",
       "4    lastPlayed      167.6        NaT       0         NaT           0   \n",
       "..          ...        ...        ...     ...         ...         ...   \n",
       "804  lastPlayed      742.6        NaT       0         NaT           0   \n",
       "805  lastPlayed     1320.5        NaT       0         NaT           0   \n",
       "806  lastPlayed      164.5        NaT       0         NaT           0   \n",
       "807  lastPlayed      163.4        NaT       0         NaT           0   \n",
       "808  lastPlayed      119.8        NaT       0         NaT           0   \n",
       "\n",
       "    date_downloaded  duration  listen_percentage  \\\n",
       "0               NaT    4731.0              0.007   \n",
       "1               NaT    1299.0              0.076   \n",
       "2               NaT    4353.0              0.009   \n",
       "3               NaT    3549.0              0.013   \n",
       "4               NaT    4177.0              0.040   \n",
       "..              ...       ...                ...   \n",
       "804             NaT    7343.0              0.101   \n",
       "805             NaT    2245.0              0.588   \n",
       "806             NaT     777.0              0.212   \n",
       "807             NaT     648.0              0.252   \n",
       "808             NaT    5274.0              0.023   \n",
       "\n",
       "                                                title  \\\n",
       "0                                       hilchos nidda   \n",
       "1                      Hesped for Rabbi Israel Miller   \n",
       "2                                          Ketuvot 13   \n",
       "3                                          Ketuvot 14   \n",
       "4                                          Ketuvot 15   \n",
       "..                                                ...   \n",
       "804                                  Parshas Kedoshim   \n",
       "805  Yom Kippur Succos and Simchat Torah for Children   \n",
       "806                 Ten Minute Halacha  Shnayim Mikra   \n",
       "807     Ten Minute Halacha  Greetings Before Davening   \n",
       "808                                    Sotah Shiur 33   \n",
       "\n",
       "                            name       category middle_category subcategory  \\\n",
       "0            Rabbi Shalom Rosner         Gemara         General     General   \n",
       "1             Rabbi Dovid Miller  Personalities         General     General   \n",
       "2            Rabbi Yonason Sacks         Gemara          Nashim     Ketuvot   \n",
       "3            Rabbi Yonason Sacks         Gemara          Nashim     Ketuvot   \n",
       "4            Rabbi Yonason Sacks         Gemara          Nashim     Ketuvot   \n",
       "..                           ...            ...             ...         ...   \n",
       "804  Rabbi Joseph B Soloveitchik         Parsha         Vayikra    Kedoshim   \n",
       "805    Rebbetzin Tziporah Heller      Machshava        Holidays        Elul   \n",
       "806         Rabbi Aryeh Lebowitz        Halacha   Miscellaneous       Torah   \n",
       "807         Rabbi Aryeh Lebowitz        Halacha     Orach Chaim    Tefillah   \n",
       "808      Rabbi Hershel Schachter         Gemara          Nashim       Sotah   \n",
       "\n",
       "            series_name                                       full_details  \n",
       "0                   NaN  Title hilchos nidda Speaker Rosner Category Ge...  \n",
       "1                   NaN  Title Hesped for Rabbi Israel Miller Speaker M...  \n",
       "2           Daily Shiur     Title Ketuvot 13 Speaker Sacks Category Gemara  \n",
       "3           Daily Shiur     Title Ketuvot 14 Speaker Sacks Category Gemara  \n",
       "4           Daily Shiur     Title Ketuvot 15 Speaker Sacks Category Gemara  \n",
       "..                  ...                                                ...  \n",
       "804                 NaN  Title Parshas Kedoshim Speaker Soloveitchik Ca...  \n",
       "805              Naaleh  Title Yom Kippur Succos and Simchat Torah for ...  \n",
       "806  Ten Minute Halacha  Title Ten Minute Halacha  Shnayim Mikra Speake...  \n",
       "807  Ten Minute Halacha  Title Ten Minute Halacha  Greetings Before Dav...  \n",
       "808  Weekly Shiur  YIFH  Title Sotah Shiur 33 Speaker Schachter Categor...  \n",
       "\n",
       "[765 rows x 20 columns]"
      ]
     },
     "execution_count": 10,
     "metadata": {},
     "output_type": "execute_result"
    }
   ],
   "source": [
    "merged.dropna(subset=['shiur','title'])"
   ]
  },
  {
   "cell_type": "code",
   "execution_count": null,
   "metadata": {},
   "outputs": [],
   "source": [
    "def __filter(merged, past: int = 7,filter: dict = None) -> pd.DataFrame:\n",
    "        filtered_shiurim = __get_recent_interactions(merged, past)\n",
    "        \n",
    "        if filter is not None:\n",
    "            for key, value in filter.items():\n",
    "                filtered_shiurim = filtered_shiurim[filtered_shiurim[key] == value]\n",
    "        \n",
    "        return filtered_shiurim\n",
    "    \n",
    "def __get_recent_interactions(merged, past: int = 7) -> pd.DataFrame:\n",
    "        interactions = merged\n",
    "        today = pd.to_datetime(date.today())\n",
    "        delta = today - timedelta(days=past)\n",
    "        interactions = interactions[(interactions['date_played'] > delta) |\n",
    "                                    (interactions['date_downloaded'] > delta) |\n",
    "                                    (interactions['queue_date'] > delta)\n",
    "                                    ]\n",
    "        return interactions"
   ]
  },
  {
   "cell_type": "code",
   "execution_count": null,
   "metadata": {},
   "outputs": [],
   "source": [
    "__filter(merged=merged, past=99999)"
   ]
  },
  {
   "cell_type": "code",
   "execution_count": null,
   "metadata": {},
   "outputs": [],
   "source": [
    "from datetime import date, timedelta"
   ]
  }
 ],
 "metadata": {
  "kernelspec": {
   "display_name": "myenv",
   "language": "python",
   "name": "python3"
  },
  "language_info": {
   "codemirror_mode": {
    "name": "ipython",
    "version": 3
   },
   "file_extension": ".py",
   "mimetype": "text/x-python",
   "name": "python",
   "nbconvert_exporter": "python",
   "pygments_lexer": "ipython3",
   "version": "3.8.19"
  }
 },
 "nbformat": 4,
 "nbformat_minor": 2
}
