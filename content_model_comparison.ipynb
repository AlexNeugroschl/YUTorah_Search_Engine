{
 "cells": [
  {
   "cell_type": "code",
   "execution_count": null,
   "metadata": {},
   "outputs": [],
   "source": [
    "import pandas as pd\n",
    "import numpy as np\n",
    "from src.models.old_content_models.content_handler_v1 import ContentHandler\n",
    "from src.models.content_handler import ContentHandler as ContentHandler2\n",
    "from src.models.content_evaluation import split_user_interactions, evaluate_hit_rate, evaluate_intra_list_diversity\n",
    "from src.pipeline.data_processor import DataProcessor, CleanedData"
   ]
  },
  {
   "cell_type": "code",
   "execution_count": null,
   "metadata": {},
   "outputs": [],
   "source": [
    "dp = DataProcessor()\n",
    "bookmarks_df = dp.load_table(CleanedData.BOOKMARKS) \n",
    "shiur_df = dp.load_table(CleanedData.SHIURIM)\n",
    "user_listens_df = bookmarks_df.merge(shiur_df[['shiur', 'full_details']], on='shiur', how='inner')\n",
    "user_listens_df = user_listens_df[(user_listens_df['played'] == 1)\n",
    "                                                     | (user_listens_df['bookmark'] == 'queue')]\n",
    "user_listens_df['date'] = user_listens_df['date_played'].combine_first(\n",
    "            user_listens_df['queue_date'])\n"
   ]
  },
  {
   "cell_type": "code",
   "execution_count": null,
   "metadata": {},
   "outputs": [],
   "source": [
    "# Analyze interaction distribution\n",
    "interaction_counts = user_listens_df['user'].value_counts()\n",
    "interaction_counts"
   ]
  },
  {
   "cell_type": "code",
   "execution_count": null,
   "metadata": {},
   "outputs": [],
   "source": [
    "percentiles = np.percentile(interaction_counts, [25, 50, 75])\n",
    "percentiles"
   ]
  },
  {
   "cell_type": "code",
   "execution_count": null,
   "metadata": {},
   "outputs": [],
   "source": [
    "# Split data\n",
    "train_df, test_df = split_user_interactions(user_listens_df, interaction_threshold=4)\n",
    "\n",
    "# Instantiate ContentHandler with training data\n",
    "content_handler = ContentHandler(train_df)\n",
    "content_handler2 = ContentHandler2(train_df)\n"
   ]
  },
  {
   "cell_type": "code",
   "execution_count": null,
   "metadata": {},
   "outputs": [],
   "source": [
    "hit_rate1, user_hits1, recommendations1 = evaluate_hit_rate(test_df, content_handler, k=10)\n",
    "hit_rate2, user_hits2, recommendations2 = evaluate_hit_rate(test_df, content_handler2, k=10)\n",
    "diversity1 = evaluate_intra_list_diversity(recommendations1, content_handler.shiur_embeddings)\n",
    "diversity2 = evaluate_intra_list_diversity(recommendations2, content_handler2.shiur_embeddings)"
   ]
  },
  {
   "cell_type": "code",
   "execution_count": null,
   "metadata": {},
   "outputs": [],
   "source": [
    "print(f\"Hit Rate (Attention): {hit_rate1}\")\n",
    "print(f\"Hit Rate (AutoEncoder/Clustering): {hit_rate2}\")\n",
    "print(f\"Diversity (Attention): {diversity1}\")\n",
    "print(f\"Diversity (AutoEncoder/Clustering): {diversity2}\")"
   ]
  },
  {
   "cell_type": "code",
   "execution_count": null,
   "metadata": {},
   "outputs": [],
   "source": [
    "print(len(user_hits1))\n",
    "print(len(user_hits2))\n",
    "print(set(user_hits1).intersection(set(user_hits2)))"
   ]
  },
  {
   "cell_type": "code",
   "execution_count": null,
   "metadata": {},
   "outputs": [],
   "source": [
    "def get_user_shiurs(user_id, df):\n",
    "    return [title for title in df[df['user'] == user_id]['full_details']]"
   ]
  },
  {
   "cell_type": "code",
   "execution_count": null,
   "metadata": {},
   "outputs": [],
   "source": [
    "user_id = 196334\n",
    "train = get_user_shiurs(user_id, train_df)\n",
    "test = get_user_shiurs(user_id, test_df)\n",
    "recommend = content_handler2.recommend_for_user_content(user_id, 7)\n",
    "\n",
    "print(\"Recommendations\")\n",
    "for x in recommend.values():\n",
    "    print(x)\n"
   ]
  },
  {
   "cell_type": "code",
   "execution_count": null,
   "metadata": {},
   "outputs": [],
   "source": [
    "print(\"Train\")\n",
    "for x in train:\n",
    "    print(x)\n"
   ]
  },
  {
   "cell_type": "code",
   "execution_count": null,
   "metadata": {},
   "outputs": [],
   "source": [
    "print(\"Test\")\n",
    "for x in test:\n",
    "    print(x)\n"
   ]
  },
  {
   "cell_type": "code",
   "execution_count": null,
   "metadata": {},
   "outputs": [],
   "source": [
    "print(\"Overlap\")\n",
    "for x in recommend.values():\n",
    "    if x in test:\n",
    "        print(x)\n",
    "\n",
    "\n"
   ]
  }
 ],
 "metadata": {
  "kernelspec": {
   "display_name": "venv",
   "language": "python",
   "name": "python3"
  },
  "language_info": {
   "codemirror_mode": {
    "name": "ipython",
    "version": 3
   },
   "file_extension": ".py",
   "mimetype": "text/x-python",
   "name": "python",
   "nbconvert_exporter": "python",
   "pygments_lexer": "ipython3",
   "version": "3.12.3"
  }
 },
 "nbformat": 4,
 "nbformat_minor": 2
}
