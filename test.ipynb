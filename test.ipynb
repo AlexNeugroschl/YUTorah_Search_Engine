{
 "cells": [
  {
   "cell_type": "code",
   "execution_count": 1,
   "metadata": {},
   "outputs": [],
   "source": [
    "import pandas as pd\n",
    "import matplotlib\n",
    "from src.pipeline.etl import ETL"
   ]
  },
  {
   "cell_type": "code",
   "execution_count": 2,
   "metadata": {},
   "outputs": [
    {
     "name": "stderr",
     "output_type": "stream",
     "text": [
      "/var/folders/y3/280rhsjd361c1_hjnxwdj3q40000gn/T/ipykernel_68901/38638260.py:1: DtypeWarning: Columns (10) have mixed types. Specify dtype option on import or set low_memory=False.\n",
      "  df = pd.read_csv(\"bookmarks.csv\")\n"
     ]
    },
    {
     "data": {
      "text/html": [
       "<div>\n",
       "<style scoped>\n",
       "    .dataframe tbody tr th:only-of-type {\n",
       "        vertical-align: middle;\n",
       "    }\n",
       "\n",
       "    .dataframe tbody tr th {\n",
       "        vertical-align: top;\n",
       "    }\n",
       "\n",
       "    .dataframe thead th {\n",
       "        text-align: right;\n",
       "    }\n",
       "</style>\n",
       "<table border=\"1\" class=\"dataframe\">\n",
       "  <thead>\n",
       "    <tr style=\"text-align: right;\">\n",
       "      <th></th>\n",
       "      <th>Unnamed: 0</th>\n",
       "      <th>user</th>\n",
       "      <th>shiur</th>\n",
       "      <th>session</th>\n",
       "      <th>bookmark</th>\n",
       "      <th>timestamp</th>\n",
       "      <th>queue_date</th>\n",
       "      <th>played</th>\n",
       "      <th>date_played</th>\n",
       "      <th>downloaded</th>\n",
       "      <th>date_downloaded</th>\n",
       "      <th>duration</th>\n",
       "      <th>listen_percentage</th>\n",
       "    </tr>\n",
       "  </thead>\n",
       "  <tbody>\n",
       "    <tr>\n",
       "      <th>201</th>\n",
       "      <td>26773</td>\n",
       "      <td>909</td>\n",
       "      <td>1093824</td>\n",
       "      <td>00000000-0000-0000-0000-000000000000</td>\n",
       "      <td>queue</td>\n",
       "      <td>0.0</td>\n",
       "      <td>2024-03-26 09:14:01.430000</td>\n",
       "      <td>0</td>\n",
       "      <td>NaN</td>\n",
       "      <td>0</td>\n",
       "      <td>NaN</td>\n",
       "      <td>766.327</td>\n",
       "      <td>0.0</td>\n",
       "    </tr>\n",
       "    <tr>\n",
       "      <th>342</th>\n",
       "      <td>48944</td>\n",
       "      <td>909</td>\n",
       "      <td>1088750</td>\n",
       "      <td>00000000-0000-0000-0000-000000000000</td>\n",
       "      <td>queue</td>\n",
       "      <td>0.0</td>\n",
       "      <td>2024-02-08 09:49:39.080000</td>\n",
       "      <td>0</td>\n",
       "      <td>NaN</td>\n",
       "      <td>0</td>\n",
       "      <td>NaN</td>\n",
       "      <td>2284.633</td>\n",
       "      <td>0.0</td>\n",
       "    </tr>\n",
       "    <tr>\n",
       "      <th>998</th>\n",
       "      <td>53619</td>\n",
       "      <td>909</td>\n",
       "      <td>1087752</td>\n",
       "      <td>00000000-0000-0000-0000-000000000000</td>\n",
       "      <td>queue</td>\n",
       "      <td>0.0</td>\n",
       "      <td>2024-01-30 15:29:38.120000</td>\n",
       "      <td>0</td>\n",
       "      <td>NaN</td>\n",
       "      <td>0</td>\n",
       "      <td>NaN</td>\n",
       "      <td>2842.247</td>\n",
       "      <td>0.0</td>\n",
       "    </tr>\n",
       "    <tr>\n",
       "      <th>1011</th>\n",
       "      <td>54628</td>\n",
       "      <td>909</td>\n",
       "      <td>1087613</td>\n",
       "      <td>00000000-0000-0000-0000-000000000000</td>\n",
       "      <td>queue</td>\n",
       "      <td>0.0</td>\n",
       "      <td>2024-01-30 15:33:53.183000</td>\n",
       "      <td>0</td>\n",
       "      <td>NaN</td>\n",
       "      <td>0</td>\n",
       "      <td>NaN</td>\n",
       "      <td>1714.897</td>\n",
       "      <td>0.0</td>\n",
       "    </tr>\n",
       "    <tr>\n",
       "      <th>911</th>\n",
       "      <td>55391</td>\n",
       "      <td>909</td>\n",
       "      <td>1087235</td>\n",
       "      <td>00000000-0000-0000-0000-000000000000</td>\n",
       "      <td>queue</td>\n",
       "      <td>0.0</td>\n",
       "      <td>2024-01-30 15:46:53.780000</td>\n",
       "      <td>0</td>\n",
       "      <td>NaN</td>\n",
       "      <td>0</td>\n",
       "      <td>NaN</td>\n",
       "      <td>5599.947</td>\n",
       "      <td>0.0</td>\n",
       "    </tr>\n",
       "  </tbody>\n",
       "</table>\n",
       "</div>"
      ],
      "text/plain": [
       "      Unnamed: 0  user    shiur                               session  \\\n",
       "201        26773   909  1093824  00000000-0000-0000-0000-000000000000   \n",
       "342        48944   909  1088750  00000000-0000-0000-0000-000000000000   \n",
       "998        53619   909  1087752  00000000-0000-0000-0000-000000000000   \n",
       "1011       54628   909  1087613  00000000-0000-0000-0000-000000000000   \n",
       "911        55391   909  1087235  00000000-0000-0000-0000-000000000000   \n",
       "\n",
       "     bookmark  timestamp                  queue_date  played date_played  \\\n",
       "201     queue        0.0  2024-03-26 09:14:01.430000       0         NaN   \n",
       "342     queue        0.0  2024-02-08 09:49:39.080000       0         NaN   \n",
       "998     queue        0.0  2024-01-30 15:29:38.120000       0         NaN   \n",
       "1011    queue        0.0  2024-01-30 15:33:53.183000       0         NaN   \n",
       "911     queue        0.0  2024-01-30 15:46:53.780000       0         NaN   \n",
       "\n",
       "      downloaded date_downloaded  duration  listen_percentage  \n",
       "201            0             NaN   766.327                0.0  \n",
       "342            0             NaN  2284.633                0.0  \n",
       "998            0             NaN  2842.247                0.0  \n",
       "1011           0             NaN  1714.897                0.0  \n",
       "911            0             NaN  5599.947                0.0  "
      ]
     },
     "execution_count": 2,
     "metadata": {},
     "output_type": "execute_result"
    }
   ],
   "source": [
    "df = pd.read_csv(\"bookmarks.csv\")\n",
    "df = df[df['user'] == 909].sort_values(\"shiur\", ascending=False)\n",
    "df.head()"
   ]
  },
  {
   "cell_type": "code",
   "execution_count": 4,
   "metadata": {},
   "outputs": [],
   "source": [
    "df.to_csv(\"bookmarks_909.csv\")"
   ]
  },
  {
   "cell_type": "code",
   "execution_count": 8,
   "metadata": {},
   "outputs": [
    {
     "data": {
      "text/plain": [
       "listen_percentage\n",
       "0.000    904\n",
       "0.070      6\n",
       "0.015      6\n",
       "0.016      6\n",
       "0.013      6\n",
       "        ... \n",
       "0.049      1\n",
       "0.029      1\n",
       "0.378      1\n",
       "0.715      1\n",
       "0.328      1\n",
       "Name: count, Length: 125, dtype: int64"
      ]
     },
     "execution_count": 8,
     "metadata": {},
     "output_type": "execute_result"
    }
   ],
   "source": [
    "df['listen_percentage'].value_counts()"
   ]
  },
  {
   "cell_type": "code",
   "execution_count": 19,
   "metadata": {},
   "outputs": [],
   "source": [
    "listen = df['listen_percentage']\n",
    "listen = listen[listen != 0]"
   ]
  },
  {
   "cell_type": "code",
   "execution_count": 20,
   "metadata": {},
   "outputs": [
    {
     "data": {
      "text/plain": [
       "<Axes: >"
      ]
     },
     "execution_count": 20,
     "metadata": {},
     "output_type": "execute_result"
    },
    {
     "data": {
      "image/png": "[encoded data removed]",
      "text/plain": [
       "<Figure size 640x480 with 1 Axes>"
      ]
     },
     "metadata": {},
     "output_type": "display_data"
    }
   ],
   "source": [
    "listen.hist()"
   ]
  },
  {
   "cell_type": "code",
   "execution_count": 21,
   "metadata": {},
   "outputs": [
    {
     "data": {
      "text/plain": [
       "listen_percentage\n",
       "0.070    6\n",
       "0.015    6\n",
       "0.016    6\n",
       "0.013    6\n",
       "0.027    5\n",
       "        ..\n",
       "0.049    1\n",
       "0.452    1\n",
       "0.378    1\n",
       "0.715    1\n",
       "0.029    1\n",
       "Name: count, Length: 124, dtype: int64"
      ]
     },
     "execution_count": 21,
     "metadata": {},
     "output_type": "execute_result"
    }
   ],
   "source": [
    "listen.value_counts()"
   ]
  }
 ],
 "metadata": {
  "kernelspec": {
   "display_name": "venv",
   "language": "python",
   "name": "python3"
  },
  "language_info": {
   "codemirror_mode": {
    "name": "ipython",
    "version": 3
   },
   "file_extension": ".py",
   "mimetype": "text/x-python",
   "name": "python",
   "nbconvert_exporter": "python",
   "pygments_lexer": "ipython3",
   "version": "3.12.3"
  }
 },
 "nbformat": 4,
 "nbformat_minor": 2
}
